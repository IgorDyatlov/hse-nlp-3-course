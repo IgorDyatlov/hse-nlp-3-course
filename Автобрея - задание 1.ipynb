{
 "cells": [
  {
   "cell_type": "markdown",
   "id": "thermal-preserve",
   "metadata": {},
   "source": [
    "# Задание 1"
   ]
  },
  {
   "cell_type": "markdown",
   "id": "similar-trunk",
   "metadata": {},
   "source": [
    "**Устанавливаем** некоторые библиотеки"
   ]
  },
  {
   "cell_type": "code",
   "execution_count": 197,
   "id": "filled-picnic",
   "metadata": {},
   "outputs": [
    {
     "name": "stdout",
     "output_type": "stream",
     "text": [
      "Requirement already satisfied: pymystem3 in c:\\users\\user\\appdata\\local\\programs\\python\\python39\\lib\\site-packages (0.2.0)\n",
      "Requirement already satisfied: requests in c:\\users\\user\\appdata\\local\\programs\\python\\python39\\lib\\site-packages (from pymystem3) (2.25.1)\n",
      "Requirement already satisfied: urllib3<1.27,>=1.21.1 in c:\\users\\user\\appdata\\local\\programs\\python\\python39\\lib\\site-packages (from requests->pymystem3) (1.26.3)\n",
      "Requirement already satisfied: idna<3,>=2.5 in c:\\users\\user\\appdata\\local\\programs\\python\\python39\\lib\\site-packages (from requests->pymystem3) (2.10)\n",
      "Requirement already satisfied: chardet<5,>=3.0.2 in c:\\users\\user\\appdata\\local\\programs\\python\\python39\\lib\\site-packages (from requests->pymystem3) (4.0.0)\n",
      "Requirement already satisfied: certifi>=2017.4.17 in c:\\users\\user\\appdata\\local\\programs\\python\\python39\\lib\\site-packages (from requests->pymystem3) (2020.12.5)\n"
     ]
    },
    {
     "name": "stderr",
     "output_type": "stream",
     "text": [
      "WARNING: Value for scheme.headers does not match. Please report this to <https://github.com/pypa/pip/issues/9617>\n",
      "distutils: c:\\users\\user\\appdata\\local\\programs\\python\\python39\\Include\\UNKNOWN\n",
      "sysconfig: c:\\users\\user\\appdata\\local\\programs\\python\\python39\\Include\n",
      "WARNING: Additional context:\n",
      "user = False\n",
      "home = None\n",
      "root = None\n",
      "prefix = None\n",
      "WARNING: Value for scheme.headers does not match. Please report this to <https://github.com/pypa/pip/issues/9617>\n",
      "distutils: c:\\users\\user\\appdata\\local\\programs\\python\\python39\\Include\\UNKNOWN\n",
      "sysconfig: c:\\users\\user\\appdata\\local\\programs\\python\\python39\\Include\n",
      "WARNING: Additional context:\n",
      "user = False\n",
      "home = None\n",
      "root = None\n",
      "prefix = None\n",
      "WARNING: You are using pip version 21.1; however, version 21.2.4 is available.\n",
      "You should consider upgrading via the 'c:\\users\\user\\appdata\\local\\programs\\python\\python39\\python.exe -m pip install --upgrade pip' command.\n"
     ]
    },
    {
     "name": "stdout",
     "output_type": "stream",
     "text": [
      "Requirement already satisfied: sklearn in c:\\users\\user\\appdata\\local\\programs\\python\\python39\\lib\\site-packages (0.0)\n",
      "Requirement already satisfied: scikit-learn in c:\\users\\user\\appdata\\local\\programs\\python\\python39\\lib\\site-packages (from sklearn) (0.24.2)\n",
      "Requirement already satisfied: joblib>=0.11 in c:\\users\\user\\appdata\\local\\programs\\python\\python39\\lib\\site-packages (from scikit-learn->sklearn) (1.0.0)\n",
      "Requirement already satisfied: scipy>=0.19.1 in c:\\users\\user\\appdata\\local\\programs\\python\\python39\\lib\\site-packages (from scikit-learn->sklearn) (1.6.0)\n",
      "Requirement already satisfied: threadpoolctl>=2.0.0 in c:\\users\\user\\appdata\\local\\programs\\python\\python39\\lib\\site-packages (from scikit-learn->sklearn) (2.2.0)\n",
      "Requirement already satisfied: numpy>=1.13.3 in c:\\users\\user\\appdata\\local\\programs\\python\\python39\\lib\\site-packages (from scikit-learn->sklearn) (1.19.5)\n"
     ]
    },
    {
     "name": "stderr",
     "output_type": "stream",
     "text": [
      "WARNING: Value for scheme.headers does not match. Please report this to <https://github.com/pypa/pip/issues/9617>\n",
      "distutils: c:\\users\\user\\appdata\\local\\programs\\python\\python39\\Include\\UNKNOWN\n",
      "sysconfig: c:\\users\\user\\appdata\\local\\programs\\python\\python39\\Include\n",
      "WARNING: Additional context:\n",
      "user = False\n",
      "home = None\n",
      "root = None\n",
      "prefix = None\n",
      "WARNING: Value for scheme.headers does not match. Please report this to <https://github.com/pypa/pip/issues/9617>\n",
      "distutils: c:\\users\\user\\appdata\\local\\programs\\python\\python39\\Include\\UNKNOWN\n",
      "sysconfig: c:\\users\\user\\appdata\\local\\programs\\python\\python39\\Include\n",
      "WARNING: Additional context:\n",
      "user = False\n",
      "home = None\n",
      "root = None\n",
      "prefix = None\n",
      "WARNING: You are using pip version 21.1; however, version 21.2.4 is available.\n",
      "You should consider upgrading via the 'c:\\users\\user\\appdata\\local\\programs\\python\\python39\\python.exe -m pip install --upgrade pip' command.\n"
     ]
    },
    {
     "name": "stdout",
     "output_type": "stream",
     "text": [
      "Requirement already satisfied: bs4 in c:\\users\\user\\appdata\\local\\programs\\python\\python39\\lib\\site-packages (0.0.1)\n",
      "Requirement already satisfied: beautifulsoup4 in c:\\users\\user\\appdata\\local\\programs\\python\\python39\\lib\\site-packages (from bs4) (4.9.3)\n",
      "Requirement already satisfied: soupsieve>1.2 in c:\\users\\user\\appdata\\local\\programs\\python\\python39\\lib\\site-packages (from beautifulsoup4->bs4) (2.1)\n"
     ]
    },
    {
     "name": "stderr",
     "output_type": "stream",
     "text": [
      "WARNING: Value for scheme.headers does not match. Please report this to <https://github.com/pypa/pip/issues/9617>\n",
      "distutils: c:\\users\\user\\appdata\\local\\programs\\python\\python39\\Include\\UNKNOWN\n",
      "sysconfig: c:\\users\\user\\appdata\\local\\programs\\python\\python39\\Include\n",
      "WARNING: Additional context:\n",
      "user = False\n",
      "home = None\n",
      "root = None\n",
      "prefix = None\n",
      "WARNING: Value for scheme.headers does not match. Please report this to <https://github.com/pypa/pip/issues/9617>\n",
      "distutils: c:\\users\\user\\appdata\\local\\programs\\python\\python39\\Include\\UNKNOWN\n",
      "sysconfig: c:\\users\\user\\appdata\\local\\programs\\python\\python39\\Include\n",
      "WARNING: Additional context:\n",
      "user = False\n",
      "home = None\n",
      "root = None\n",
      "prefix = None\n",
      "WARNING: You are using pip version 21.1; however, version 21.2.4 is available.\n",
      "You should consider upgrading via the 'c:\\users\\user\\appdata\\local\\programs\\python\\python39\\python.exe -m pip install --upgrade pip' command.\n"
     ]
    },
    {
     "name": "stdout",
     "output_type": "stream",
     "text": [
      "Requirement already satisfied: nltk in c:\\users\\user\\appdata\\local\\programs\\python\\python39\\lib\\site-packages (3.5)\n",
      "Requirement already satisfied: click in c:\\users\\user\\appdata\\local\\programs\\python\\python39\\lib\\site-packages (from nltk) (7.1.2)\n",
      "Requirement already satisfied: joblib in c:\\users\\user\\appdata\\local\\programs\\python\\python39\\lib\\site-packages (from nltk) (1.0.0)\n",
      "Requirement already satisfied: regex in c:\\users\\user\\appdata\\local\\programs\\python\\python39\\lib\\site-packages (from nltk) (2020.11.13)\n",
      "Requirement already satisfied: tqdm in c:\\users\\user\\appdata\\local\\programs\\python\\python39\\lib\\site-packages (from nltk) (4.56.0)\n"
     ]
    },
    {
     "name": "stderr",
     "output_type": "stream",
     "text": [
      "WARNING: Value for scheme.headers does not match. Please report this to <https://github.com/pypa/pip/issues/9617>\n",
      "distutils: c:\\users\\user\\appdata\\local\\programs\\python\\python39\\Include\\UNKNOWN\n",
      "sysconfig: c:\\users\\user\\appdata\\local\\programs\\python\\python39\\Include\n",
      "WARNING: Additional context:\n",
      "user = False\n",
      "home = None\n",
      "root = None\n",
      "prefix = None\n",
      "WARNING: Value for scheme.headers does not match. Please report this to <https://github.com/pypa/pip/issues/9617>\n",
      "distutils: c:\\users\\user\\appdata\\local\\programs\\python\\python39\\Include\\UNKNOWN\n",
      "sysconfig: c:\\users\\user\\appdata\\local\\programs\\python\\python39\\Include\n",
      "WARNING: Additional context:\n",
      "user = False\n",
      "home = None\n",
      "root = None\n",
      "prefix = None\n",
      "WARNING: You are using pip version 21.1; however, version 21.2.4 is available.\n",
      "You should consider upgrading via the 'c:\\users\\user\\appdata\\local\\programs\\python\\python39\\python.exe -m pip install --upgrade pip' command.\n",
      "\"nltk.download\" ­Ґ пў«пҐвбп ў­гваҐ­­Ґ© Ё«Ё ў­Ґи­Ґ©\n",
      "Є®¬ ­¤®©, ЁбЇ®«­пҐ¬®© Їа®Ја ¬¬®© Ё«Ё Ї ЄҐв­л¬ д ©«®¬.\n"
     ]
    },
    {
     "name": "stdout",
     "output_type": "stream",
     "text": [
      "Requirement already satisfied: fake_useragent in c:\\users\\user\\appdata\\local\\programs\\python\\python39\\lib\\site-packages (0.1.11)\n"
     ]
    },
    {
     "name": "stderr",
     "output_type": "stream",
     "text": [
      "WARNING: Value for scheme.headers does not match. Please report this to <https://github.com/pypa/pip/issues/9617>\n",
      "distutils: c:\\users\\user\\appdata\\local\\programs\\python\\python39\\Include\\UNKNOWN\n",
      "sysconfig: c:\\users\\user\\appdata\\local\\programs\\python\\python39\\Include\n",
      "WARNING: Additional context:\n",
      "user = False\n",
      "home = None\n",
      "root = None\n",
      "prefix = None\n",
      "WARNING: Value for scheme.headers does not match. Please report this to <https://github.com/pypa/pip/issues/9617>\n",
      "distutils: c:\\users\\user\\appdata\\local\\programs\\python\\python39\\Include\\UNKNOWN\n",
      "sysconfig: c:\\users\\user\\appdata\\local\\programs\\python\\python39\\Include\n",
      "WARNING: Additional context:\n",
      "user = False\n",
      "home = None\n",
      "root = None\n",
      "prefix = None\n",
      "WARNING: You are using pip version 21.1; however, version 21.2.4 is available.\n",
      "You should consider upgrading via the 'c:\\users\\user\\appdata\\local\\programs\\python\\python39\\python.exe -m pip install --upgrade pip' command.\n"
     ]
    }
   ],
   "source": [
    "!pip install pymystem3\n",
    "!pip install sklearn\n",
    "!pip install bs4\n",
    "!pip install nltk\n",
    "!nltk.download('punkt')\n",
    "!pip install fake_useragent"
   ]
  },
  {
   "cell_type": "markdown",
   "id": "minor-symbol",
   "metadata": {},
   "source": [
    "Затем **импортируем** библиотеки, необходимые для работы"
   ]
  },
  {
   "cell_type": "code",
   "execution_count": 179,
   "id": "filled-montreal",
   "metadata": {},
   "outputs": [],
   "source": [
    "from bs4 import BeautifulSoup\n",
    "import string\n",
    "punct_li = [word for word in string.punctuation]\n",
    "import requests as req\n",
    "import re\n",
    "from nltk.corpus import stopwords\n",
    "ru_stopwords = stopwords.words('russian')\n",
    "from pymystem3 import Mystem\n",
    "import time\n",
    "from fake_useragent import UserAgent\n",
    "import random\n",
    "from collections import Counter\n",
    "import copy\n",
    "from sklearn.metrics import accuracy_score\n",
    "m = Mystem()"
   ]
  },
  {
   "cell_type": "markdown",
   "id": "addressed-blackjack",
   "metadata": {},
   "source": [
    "Здесь я пытаюсь использовать юзерагент для того, чтобы понизить вероятность бана от сайта"
   ]
  },
  {
   "cell_type": "code",
   "execution_count": 180,
   "id": "sapphire-cleveland",
   "metadata": {},
   "outputs": [
    {
     "name": "stdout",
     "output_type": "stream",
     "text": [
      "{'User-Agent': 'Mozilla/5.0 (Windows NT 6.3; WOW64) AppleWebKit/537.36 (KHTML, like Gecko) Chrome/41.0.2226.0 Safari/537.36'}\n"
     ]
    }
   ],
   "source": [
    "ua = UserAgent(verify_ssl = False)\n",
    "headers = {'User-Agent': ua.random}\n",
    "count = {\n",
    "    'number': 0\n",
    "}\n",
    "print(headers)"
   ]
  },
  {
   "cell_type": "markdown",
   "id": "indian-significance",
   "metadata": {},
   "source": [
    "**Получаем сеты (множества)** по эмоциям"
   ]
  },
  {
   "cell_type": "code",
   "execution_count": 181,
   "id": "usual-palace",
   "metadata": {},
   "outputs": [],
   "source": [
    "def getting_sets():\n",
    "    set_positive = set()\n",
    "    set_negative = set()\n",
    "    counter_positive = Counter()\n",
    "    counter_negative = Counter()\n",
    "    banks = ['rsb', 'sovcombank']\n",
    "    for bank in banks:\n",
    "        count_positive = 0\n",
    "        count_negative = 0\n",
    "        for i in range(1, 25):\n",
    "            if count_positive == 35 and count_negative == 35:\n",
    "                break\n",
    "            else:\n",
    "                time.sleep(8)\n",
    "                resp = req.get(f'https://www.banki.ru/services/responses/bank/{bank}/?is_countable=on&page={i}', \n",
    "                               proxies = {'https://135.181.61.25': '36135'}, headers = headers)\n",
    "                soup = BeautifulSoup(resp.content, 'html.parser')\n",
    "                stuff = soup.find_all('article', class_ = 'responses__item')\n",
    "                for one in stuff:\n",
    "                    if count_positive == 35 and count_negative == 35:\n",
    "                        break\n",
    "                    elif one.find('span', class_ = 'rating-grade rating-grade--small rating-grade--value-1') != None and count_negative < 35:\n",
    "                        count_negative += 1\n",
    "                        text = m.lemmatize(one.find('div', class_ = 'responses__item__message markup-inside-small markup-inside-small--bullet').getText().lower())\n",
    "                        for word in text:\n",
    "                            set_negative.add(word)\n",
    "                            counter_negative[word] += 1\n",
    "                        print(str('count_negative: ' + str(count_negative)))\n",
    "                    elif one.find('span', class_ = 'rating-grade rating-grade--small rating-grade--value-5') != None and count_positive < 35:\n",
    "                        count_positive += 1\n",
    "                        text = m.lemmatize(one.find('div', class_ = 'responses__item__message markup-inside-small markup-inside-small--bullet').getText().lower())\n",
    "                        for word in text:\n",
    "                            set_positive.add(word)\n",
    "                            counter_positive[word] += 1\n",
    "                        print(str('count_positive: ' + str(count_positive)))\n",
    "                    else:\n",
    "                        continue\n",
    "    return [set_positive, set_negative, counter_positive, counter_negative]"
   ]
  },
  {
   "cell_type": "markdown",
   "id": "integrated-transaction",
   "metadata": {},
   "source": [
    "**Очищаем сеты** от различных символов, которые могут помешать в оценке"
   ]
  },
  {
   "cell_type": "code",
   "execution_count": 182,
   "id": "effective-crown",
   "metadata": {},
   "outputs": [],
   "source": [
    "def cleaning(list_of_sets):\n",
    "    set_positive = copy.copy(list_of_sets[0])\n",
    "    for word in list_of_sets[0]:\n",
    "        if list_of_sets[2][word] < 2 or word in ru_stopwords or re.search(' |\\n|\\t|.\\xa0|[0-9]', word) != None or word in punct_li or word == '':\n",
    "            set_positive.discard(word)\n",
    "    set_negative = copy.copy(list_of_sets[1])\n",
    "    for word in list_of_sets[1]:\n",
    "        if list_of_sets[3][word] < 2 or word in ru_stopwords or re.search(' |\\n|\\t|.\\xa0|[0-9]', word) != None or word in punct_li or word == '':\n",
    "            set_negative.discard(word)\n",
    "    return [set_positive, set_negative, list_of_sets[2], list_of_sets[3]]"
   ]
  },
  {
   "cell_type": "markdown",
   "id": "naughty-vegetarian",
   "metadata": {},
   "source": [
    "Ниже я **проверяю работу** этих функций"
   ]
  },
  {
   "cell_type": "code",
   "execution_count": 183,
   "id": "turned-fluid",
   "metadata": {
    "scrolled": true
   },
   "outputs": [
    {
     "name": "stdout",
     "output_type": "stream",
     "text": [
      "count_negative: 1\n",
      "count_negative: 2\n",
      "count_negative: 3\n",
      "count_negative: 4\n",
      "count_positive: 1\n",
      "count_positive: 2\n",
      "count_positive: 3\n",
      "count_negative: 5\n",
      "count_positive: 4\n",
      "count_negative: 6\n",
      "count_negative: 7\n",
      "count_positive: 5\n",
      "count_negative: 8\n",
      "count_positive: 6\n",
      "count_positive: 7\n",
      "count_positive: 8\n",
      "count_positive: 9\n",
      "count_negative: 9\n",
      "count_positive: 10\n",
      "count_positive: 11\n",
      "count_negative: 10\n",
      "count_positive: 12\n",
      "count_positive: 13\n",
      "count_negative: 11\n",
      "count_positive: 14\n",
      "count_negative: 12\n",
      "count_positive: 15\n",
      "count_negative: 13\n",
      "count_positive: 16\n",
      "count_positive: 17\n",
      "count_positive: 18\n",
      "count_positive: 19\n",
      "count_positive: 20\n",
      "count_positive: 21\n",
      "count_positive: 22\n",
      "count_positive: 23\n",
      "count_positive: 24\n",
      "count_negative: 14\n",
      "count_negative: 15\n",
      "count_positive: 25\n",
      "count_positive: 26\n",
      "count_negative: 16\n",
      "count_positive: 27\n",
      "count_negative: 17\n",
      "count_positive: 28\n",
      "count_positive: 29\n",
      "count_positive: 30\n",
      "count_positive: 31\n",
      "count_negative: 18\n",
      "count_positive: 32\n",
      "count_positive: 33\n",
      "count_negative: 19\n",
      "count_positive: 34\n",
      "count_positive: 35\n",
      "count_negative: 20\n",
      "count_negative: 21\n",
      "count_negative: 22\n",
      "count_negative: 23\n",
      "count_negative: 24\n",
      "count_negative: 25\n",
      "count_negative: 26\n",
      "count_negative: 27\n",
      "count_negative: 28\n",
      "count_negative: 29\n",
      "count_negative: 30\n",
      "count_negative: 31\n",
      "count_negative: 32\n",
      "count_negative: 33\n",
      "count_negative: 34\n",
      "count_negative: 35\n",
      "count_positive: 1\n",
      "count_positive: 2\n",
      "count_negative: 1\n",
      "count_positive: 3\n",
      "count_negative: 2\n",
      "count_negative: 3\n",
      "count_negative: 4\n",
      "count_negative: 5\n",
      "count_negative: 6\n",
      "count_positive: 4\n",
      "count_positive: 5\n",
      "count_positive: 6\n",
      "count_negative: 7\n",
      "count_positive: 7\n",
      "count_negative: 8\n",
      "count_positive: 8\n",
      "count_negative: 9\n",
      "count_negative: 10\n",
      "count_negative: 11\n",
      "count_negative: 12\n",
      "count_negative: 13\n",
      "count_positive: 9\n",
      "count_positive: 10\n",
      "count_negative: 14\n",
      "count_negative: 15\n",
      "count_negative: 16\n",
      "count_positive: 11\n",
      "count_negative: 17\n",
      "count_positive: 12\n",
      "count_negative: 18\n",
      "count_negative: 19\n",
      "count_positive: 13\n",
      "count_negative: 20\n",
      "count_negative: 21\n",
      "count_negative: 22\n",
      "count_negative: 23\n",
      "count_positive: 14\n",
      "count_negative: 24\n",
      "count_positive: 15\n",
      "count_negative: 25\n",
      "count_negative: 26\n",
      "count_negative: 27\n",
      "count_negative: 28\n",
      "count_negative: 29\n",
      "count_negative: 30\n",
      "count_positive: 16\n",
      "count_negative: 31\n",
      "count_positive: 17\n",
      "count_negative: 32\n",
      "count_positive: 18\n",
      "count_negative: 33\n",
      "count_negative: 34\n",
      "count_positive: 19\n",
      "count_positive: 20\n",
      "count_negative: 35\n",
      "count_positive: 21\n",
      "count_positive: 22\n",
      "count_positive: 23\n",
      "count_positive: 24\n",
      "count_positive: 25\n",
      "count_positive: 26\n",
      "count_positive: 27\n",
      "count_positive: 28\n",
      "count_positive: 29\n",
      "count_positive: 30\n",
      "count_positive: 31\n",
      "count_positive: 32\n",
      "count_positive: 33\n",
      "count_positive: 34\n",
      "count_positive: 35\n"
     ]
    }
   ],
   "source": [
    "sets = cleaning(getting_sets())"
   ]
  },
  {
   "cell_type": "code",
   "execution_count": 184,
   "id": "relative-blocking",
   "metadata": {},
   "outputs": [],
   "source": [
    "positive_start = {elem for elem in sets[0]}\n",
    "sets[0].difference_update(sets[1])\n",
    "sets[1].difference_update(positive_start)"
   ]
  },
  {
   "cell_type": "code",
   "execution_count": 185,
   "id": "illegal-commission",
   "metadata": {},
   "outputs": [
    {
     "name": "stdout",
     "output_type": "stream",
     "text": [
      "{'рост', 'гл', 'рамка', ']–', 'ко', 'внимательно', 'набирать', 'успех', 'клиентоориентированный', 'случаться', 'ольга', 'надбавка', 'нарушать', 'профессионализм', 'выбор', 'приятный', 'положение', 'посещать', 'жкх', 'грамотно', 'смотря', 'качественно', 'доброжелательный', 'ирина', 'месячный', 'полтора', 'подробность', 'рад', 'четко', 'официальный', 'входить', 'современный', 'мария', 'добровольный', 'код', 'додо', 'консультация', 'довольный', 'преимущество', 'место', 'расстраиваться', 'понятный', 'анна', 'сергей', 'клиентоориентированность', 'равный', 'ч', 'дистанционно', 'заключаться', 'юлия', 'родственник', 'любить', 'повышение', 'процветание', 'всякий', 'отзывчивость', 'чадо', 'б', '\")', 'понимание', 'прошлый', 'обрадовать', 'банковский', 'род', 'целое', 'александр', 'вид', 'руководство', 'активация', 'особенно', 'режим', 'добропорядочный', 'деталь', 'samsung', 'поведение', 'огромный', 'светлана', 'называть', 'отзывчивый', 'встречать', 'вовремя', 'милый', 'подарок', 'удовлетворять', 'категория', 'запрос', 'компенсация', 'понравиться', 'чуткий', 'увеличивать', 'остальной', 'единственный', 'поблагодарить', 'описание', 'желать', 'тяжелый', 'рассчитывать', 'потеря', 'друг', 'азс', 'подлежать', 'вставать', 'заводить', 'индивидуальный', 'товар', 'квалифицированно', 'бонус', 'бонусный', 'оборот', 'значение', 'благодарность', 'отменять', 'ожидать', 'заинтересовывать', 'моментально', 'статья', 'вежливый', 'удержание', 'google', 'максимальный', 'мес', 'продукт', 'счастливый', 'счастие', 'великий', 'примерно', 'облигация', 'внимательность', 'радовать', 'потребитель', 'благодарить', 'николаевна', 'долгий', 'нормативный', 'честно', 'тактичный', 'доход', 'содержаться', 'улица', 'порадовать', 'терпеливо', 'буквально', 'камень', 'мелочь', 'исходить', 'относительно', 'заботиться', 'ксения', 'впервые', 'обязательство', 'наталья', 'применять', 'иметься', 'возвращаться', 'повод', 'екатерина', 'алексей', 'случайно', 'делаться', 'положительно', 'устанавливать', 'ход', 'подробный', 'лично', 'включение', 'снижение', 'например', 'предел', 'консультироваться', 'авиа', 'неоднократно', 'изначально', 'одежда', 'благодаря', 'авиакарта', 'ленин', 'необходимость', 'слышать', 'активировать', 'встречаться', 'подход', 'анастасия', 'защита', 'pay', 'совершенный', 'удобный', 'отключать', 'менять', 'правильно', 'sv', 'здоровый', 'отмечать', 'доходчиво', 'кэшбек', 'обслуживать', 'многий', 'квалифицированный', 'главное', 'изменять', 'недавно', 'елена', 'выплата', 'вежливость', 'действительно', 'выслушивать', 'грамотный', 'путешествие', 'ш', 'минимальный', 'продлять', 'правильность', 'подписка', 'экстра', 'формула', 't', 'активно', 'обслуживаться', 'сумка', 'навстречу', 'профессиональный', 'луки', 'допускать', 'др', 'кеш', 'особый', 'интересовать', 'сотрудничество', 'чу', 'карьерный', 'кредитование', 'кешбэк', 'кешбек', 'дарья', 'отмена', 'социальный', 'apple', 'обувь', 'внимательный', 'небольшой', 'фио', 'приятно', 'активный', 'ву', 'десяток', 'челябинск', 'работник', 'заемщик', 'ущемлять', 'отключение', 'знакомый', 'володарский', 'быстрый', 'здоровье', 'искомый', 'уплачивать', 'снижать', 's', 'продление', 'коллектив', 'человечность', 'возможно', 'зайти', 'удивлять', 'благодарный', 'уровень', 'аида', 'подводный', 'игра', 'терминал', 'корректно', 'визит'}\n"
     ]
    }
   ],
   "source": [
    "print(sets[0])"
   ]
  },
  {
   "cell_type": "code",
   "execution_count": 186,
   "id": "cubic-adoption",
   "metadata": {},
   "outputs": [
    {
     "name": "stdout",
     "output_type": "stream",
     "text": [
      "{'online', 'ожидание', 'спрашивать', 'обходить', 'уведомлять', 'целый', 'согласный', 'тишина', 'пенсия', 'почему', 'идентичный', 'заказывать', 'скидка', 'вынуждать', 'странный', 'связываться', 'поверять', 'машина', 'лист', 'цифра', 'контактный', 'недвижимость', 'привлекательный', 'неизвестный', 'обновляться', 'распоряжение', 'отписка', 'разглашаться', 'немного', 'завтра', 'среда', 'выход', 'видимо', 'недовольный', 'мама', 'видеть', 'гражданин', 'имущество', 'консультант', 'мера', 'оформляться', 'запрашивать', 'пытаться', 'обзвон', 'свидетельство', 'прописка', 'центральный', 'озвучивать', 'тип', 'добро', 'заявлять', 'шок', 'отказывать', 'максимально', '?!', 'обязанность', 'наглый', 'пересчет', 'ходить', 'что-то', 'необходимо', 'бесплатный', 'добиваться', 'заполнять', 'контакт', 'возмещение', 'скорый', 'продавец', 'навязнуть', 'сбп', 'требовать', 'мясо', 'практически', 'тело', 'дублировать', 'прекращаться', 'фото', 'причем', 'сталкиваться', 'тинькофф', 'обманывать', 'основание', 'бот', 'беспокоить', 'попробовать', 'потенциальный', 'убирать', 'отказываться', 'ранее', 'wa', 'насчет', 'вежливо', 'замечать', 'суббота', 'изучать', 'постановление', 'тратить', 'стыдно', 'передавать', 'привычный', 'сильно', 'завершать', 'заведомо', 'часто', 'цент', 'реально', 'выпуск', 'видно', 'старый', 'вышеизложенный', 'сидеть', 'подтверждать', 'заверять', 'купить', 'риск', 'посмотреть', 'обратно', 'прокуратура', 'рассмотрение', 'явно', 'подозрение', 'хамство', 'выяснять', 'суд', 'вторник', 'письменный', 'этаж', 'исключать', '₽', 'специально', 'n', 'сын', 'снимать', 'низко', 'неприятный', 'обязательный', 'подождать', 'обнаруживать', 'бумага', 'московский', 'совершенно', 'настоящий', 'списываться', 'тур', 'предоставление', 'стол', 'брокерский', 'назад', 'пополнение', 'робот', 'внесение', 'электронный', 'клиентский', 'бесконечный', 'управляющий', 'продажа', 'расходный', 'пфр', 'изменяться', 'зато', 'процедура', 'каско', 'ноль', 'объем', 'нс', 'пусть', 'всячески', 'домой', 'ведение', 'снятие', 'ипотека', 'дорога', 'наличный', 'ноябрь', 'оказывать', 'автомир', 'банкомат', 'впаривать', 'дешево', 'совать', 'сомнение', 'ветер', 'предупреждать', 'кормить', 'вести', 'хватить', 'звонить', 'россия', 'сторонний', 'оно', 'прием', 'ложный', 'иной', 'обманный', 'продавать', 'уходить', 'готовый', 'половина', 'приемлемый', 'автомобиль', '!!', 'регистрация', 'определение', 'чека', 'неудобство', 'перевести', 'заключать', 'негативный', 'непонятный', 'переставать', 'доступ', 'смысл', 'м', 'подымать', 'совесть', 'увеличиваться', 'путь', 'соглашаться', 'ао', 'родитель', 'весьма', 'письмо', 'светиться', 'персональный', 'пообещать', 'гладко', 'подключать', 'процентный', 'долг', 'запись', 'стс', 'ростов-на-дону', 'никак', 'недостаточно', 'слетать', 'лицо', 'исполнительный', 'повторяться', 'эквайер', 'кредитоваться', 'зарплата', '*****', 'сегодняшний', 'пояснение', 'регистрировать', 'прийти', 'моральный', 'несчастный', 'недостоверный', 'наблюдаться', 'взыскание', 'спустя', 'купюра', 'татьяна', 'авто', 'трудность', 'появляться', 'бессовестный', 'включая', 'дилер', '...', 'доверенность', 'исправлять', 'текст', 'зачислять', 'компания', 'переходить', 'фраза', 'бесплатно', 'ру', 'прояснивать', 'выставлять', 'законодательство', 'казаться', 'росреестр', 'прекращать', 'момент', 'скриншот', 'июнь', 'относиться', 'обман', 'последующий', 'номинал', 'зарегистрировать', 'пропорционально', 'июль', 'иначе', 'москва', 'дождаться', 'почта', 'сертификат', 'полагать', 'эл', 'сотрудничать', 'пристав', 'указанный', 'соответственно', 'нигде', 'цб', 'вынести', 'продолжать', 'затем', 'испытывать', 'мск', 'дом', 'задавать', 'возражение', 'оригинал', 'участие', 'идиотизм', 'максимум', '!!!!', 'пожалуйста', 'факт', 'сутки', 'переспрашивать', 'пополнять', 'филиал', 'страна', 'читать', 'вообще', 'далее', 'планировать', 'rs', 'вышеописанный', 'роспотребнадзор', 'вызывать', 'повторный', 'способ', 'извинение', '****', 'приносить', 'комментарий', 'занимать', 'технический', 'приглашать', 'купля', 'ст', 'около', 'списание', 'прямой', 'квест', 'hyundai', 'реакция', 'переносить', 'убеждать', 'некомпетентный', 'удалять', 'спамить', 'использование', 'пандемия', 'сюда', 'bot', 'май', 'юрист', 'ск', 'автоответчик', 'затрачивать', 'ровно', 'завтрак', 'состав', 'повторно', 'неизвестно', 'молодой', 'ипотечный', 'мать', 'обычный', 'х', 'самостоятельно', 'лишь', 'сюрприз', 'выполнение', 'рефинансирование', 'какой-то', 'расчетный', 'цена', 'скрывать', 'урегулирование', 'прикладывать', 'тк', 'невозможно', 'постоянный', 'восток', 'бдительный', 'операционист', 'куча', 'компетенция', 'перенаправлять', 'путевка', 'собираться', 'остаток', 'идентификация', 'опускать', 'негатив', 'нулевой', 'повторять', 'взаимодействие', 'птс', 'копия', 'расчет', 'сэкономить', 'практика', 'оговаривать', 'вылет', 'слияние', 'посещение', 'пакет', 'организация', 'стадия', 'получатель', 'ехать', 'заниматься', 'располагаться', 'итого', 'некоторый', 'закрытый', 'торопиться', 'процесс', 'график', 'тысяча', 'выгодно', 'местный', 'разговаривать', 'выводить', 'задача', 'четверг', 'начисляться', 'живой', 'материальный', 'дважды', 'жалоба', 'ю', 'протяжение', 'орган', 'залог', 'уточнение', 'бросать', 'страховаться', 'прописывать', 'коллега', 'обещать', 'судебный', 'последовать', 'смерть', 'диалог', 'невозможный', 'трубка', 'проводить', 'открытие', 'посылать', 'вышеуказанный', 'начинаться', 'направлять', '..', 'доступный', 'отец', 'проверка', 'помимо', 'справка', 'заканчиваться', 'шт', 'объяснение', 'девочка', 'надежда', 'описывать', 'список', 'продлевать', 'неисправность', 'кусок', 'просрочивать', 'дс', '******', 'туда', 'действующий', 'стандартный', 'открытый', 'назначать', 'первоначальный', 'требоваться', '»', 'собственный', 'никто', 'наличные', 'присылать', 'многодетный', 'благополучно', 'жизнь', 'ава', 'нужный', 'курс', 'менее', 'сделка', 'подумать', 'обдирать', 'обязывать', 'навязывать', 'план', 'черный', 'интересно', 'депозитный', 'алерт', 'текущий', 'искать', 'абсолютно', 'ладно', 'подписание', 'арест', 'плечо', 'удивляться', 'приобретение', 'платный', 'автосалон', 'низкий', 'скрытый', 'банкротство', 'сей', 'различный', 'записывать', 'творить', 'движение', 'радостный', 'граница', 'сходиться', 'сбой', 'обновление', 'ужасный', 'написание', 'близкие', 'дата', 'совершение', 'близкий', 'дкп', 'приезжать', 'якобы', 'ошибочно', 'называться', 'заблуждение', 'образец', 'кто-то', 'паспортный', 'помнить', 'дорого', 'согласие', 'ребенок', 'наш', 'указание', 'увеличение', 'частично', 'стоить', 'опротестование', 'потерять', 'выписка', 'полагаться', 'чек', 'база', 'старик', 'элементарный', 'отдавать', 'торговый', 'нажимать', 'нерв', 'зачисление', 'плата'}\n"
     ]
    }
   ],
   "source": [
    "print(sets[1])"
   ]
  },
  {
   "cell_type": "markdown",
   "id": "million-citizen",
   "metadata": {},
   "source": [
    "Все отлично работает. Теперь **выносим вердикт по отзывам** с помощью сетов"
   ]
  },
  {
   "cell_type": "code",
   "execution_count": 187,
   "id": "active-married",
   "metadata": {},
   "outputs": [],
   "source": [
    "def checking(review, sets):\n",
    "    positive_words = int()\n",
    "    negative_words = int()\n",
    "    lemmatized = m.lemmatize(review.lower())\n",
    "    for word in lemmatized:\n",
    "        if word in sets[0]:\n",
    "            positive_words += 1\n",
    "        elif word in sets[1]:\n",
    "            negative_words += 1\n",
    "    if positive_words > negative_words:\n",
    "        return 'positive'\n",
    "    elif positive_words < negative_words:\n",
    "        return 'negative'\n",
    "    else:\n",
    "        return 'positive' #сеты несбалансированы, поэтому я решил, что при равном количестве слов преимущество \n",
    "                          #надо отдавать эмоции с меньшим количеством слов"
   ]
  },
  {
   "cell_type": "markdown",
   "id": "northern-background",
   "metadata": {},
   "source": [
    "Ниже показаны проверочные отзывы. Первый является негативным, второй позитивным"
   ]
  },
  {
   "cell_type": "code",
   "execution_count": 188,
   "id": "played-definition",
   "metadata": {},
   "outputs": [],
   "source": [
    "review = '''Действительно, бизнес \"Русского Стандарта\" строится на надувательстве заемщиков! Это самое настоящее \"кидалово\" для клиентов Банка. Бешенные проценты, завуалированные под низкопроцентные кредиты. Нулевые кредиты Банк выдает только под неликвидные товары, по сговору с фирмой-продавцом. Причем на такие товары делается большая наценка, которая в последствии делится между Банком и торговой организацией. Товары продаются в магазинах-партнерах Банка отвратительного качества (3-4 сорт), очень много бракованных и возвращаются. покупателями в течении 1-2 месяцев после покупки. Брак по низким ценам из Эльдорадо и Евросети обычное дело.\n",
    "В отношении своих сотрудников Банк занимается подставами и кидаловым.\n",
    "Так что не надо брать \"дешевые\" кредиты в этом Банке, и вообще не имейте с ним дело и другим скажите.\n",
    "Проще обратиться в другие Банки, чтобы не чувствовать себя потом в дураках!'''"
   ]
  },
  {
   "cell_type": "code",
   "execution_count": 189,
   "id": "artificial-victoria",
   "metadata": {},
   "outputs": [],
   "source": [
    "review2 = '''Не знаю как кредиты в этом банке, но вот ДЕПОЗИТЫ просто класс! Мало того, что высокие ставки, бесплатно выпускают депозитную карту, на которую тоже начисляются проценты  А когда мне срочно понадобились мои деньги, я смогла закрыть свой вклад, позвонив по телефону и досрочно закрыв депозит. Уже на следующий день получила деньги с моей карты!!!'''"
   ]
  },
  {
   "cell_type": "code",
   "execution_count": 190,
   "id": "peripheral-terror",
   "metadata": {
    "scrolled": true
   },
   "outputs": [
    {
     "data": {
      "text/plain": [
       "'negative'"
      ]
     },
     "execution_count": 190,
     "metadata": {},
     "output_type": "execute_result"
    }
   ],
   "source": [
    "checking(review, sets)"
   ]
  },
  {
   "cell_type": "code",
   "execution_count": 191,
   "id": "roman-reservation",
   "metadata": {},
   "outputs": [
    {
     "data": {
      "text/plain": [
       "'negative'"
      ]
     },
     "execution_count": 191,
     "metadata": {},
     "output_type": "execute_result"
    }
   ],
   "source": [
    "checking(review2, sets)"
   ]
  },
  {
   "cell_type": "markdown",
   "id": "stone-modem",
   "metadata": {},
   "source": [
    "Как видим, программа работает не всегда. Тогда **посмотрим ее точность** на примере 10 тестовых отзывов"
   ]
  },
  {
   "cell_type": "code",
   "execution_count": 192,
   "id": "excellent-civilian",
   "metadata": {},
   "outputs": [],
   "source": [
    "def getting_tests():\n",
    "    reviews_emotions = dict()\n",
    "    count_positive = 0\n",
    "    count_negative = 0\n",
    "    for i in range(60, 85):\n",
    "        time.sleep(8)\n",
    "        resp = req.get(f'https://www.banki.ru/services/responses/bank/rsb/?is_countable=on&page={i}', \n",
    "                       proxies = {'https://135.181.61.25': '36135'}, headers = headers)\n",
    "        soup = BeautifulSoup(resp.content, 'html.parser')\n",
    "        stuff = soup.find_all('article', class_ = 'responses__item')\n",
    "        for one in stuff:\n",
    "            if count_positive == 15 and count_negative == 15:\n",
    "                return reviews_emotions\n",
    "            elif one.find('span', class_ = 'rating-grade rating-grade--small rating-grade--value-1') != None and count_negative < 15:\n",
    "                text = one.find('div', class_ = 'responses__item__message markup-inside-small markup-inside-small--bullet').getText()\n",
    "                count_negative += 1\n",
    "                reviews_emotions[text] = 'negative'\n",
    "                print(str('count_negative: ' + str(count_negative)))\n",
    "            elif one.find('span', class_ = 'rating-grade rating-grade--small rating-grade--value-5') != None and count_positive < 15:\n",
    "                text = one.find('div', class_ = 'responses__item__message markup-inside-small markup-inside-small--bullet').getText()\n",
    "                count_positive += 1\n",
    "                reviews_emotions[text] = 'positive'\n",
    "                print(str('count_positive: ' + str(count_positive)))\n",
    "            else:\n",
    "                continue"
   ]
  },
  {
   "cell_type": "code",
   "execution_count": 193,
   "id": "immune-child",
   "metadata": {},
   "outputs": [
    {
     "name": "stdout",
     "output_type": "stream",
     "text": [
      "count_negative: 1\n",
      "count_negative: 2\n",
      "count_positive: 1\n",
      "count_positive: 2\n",
      "count_positive: 3\n",
      "count_negative: 3\n",
      "count_negative: 4\n",
      "count_negative: 5\n",
      "count_negative: 6\n",
      "count_negative: 7\n",
      "count_positive: 4\n",
      "count_negative: 8\n",
      "count_positive: 5\n",
      "count_negative: 9\n",
      "count_negative: 10\n",
      "count_negative: 11\n",
      "count_negative: 12\n",
      "count_negative: 13\n",
      "count_negative: 14\n",
      "count_negative: 15\n",
      "count_positive: 6\n",
      "count_positive: 7\n",
      "count_positive: 8\n",
      "count_positive: 9\n",
      "count_positive: 10\n",
      "count_positive: 11\n",
      "count_positive: 12\n",
      "count_positive: 13\n",
      "count_positive: 14\n",
      "count_positive: 15\n"
     ]
    }
   ],
   "source": [
    "test_reviews = getting_tests()"
   ]
  },
  {
   "cell_type": "code",
   "execution_count": 194,
   "id": "desirable-parent",
   "metadata": {},
   "outputs": [],
   "source": [
    "def calculating_accuracy(reviews_emotions, sets):\n",
    "    random_ten = list(reviews_emotions.items())\n",
    "    random.shuffle(random_ten)\n",
    "    random_ten = random_ten[:10]\n",
    "    results = list()\n",
    "    reality = list()\n",
    "    for review in random_ten:\n",
    "        reality.append(review[1])\n",
    "        result = checking(review[0], sets)\n",
    "        results.append(result)\n",
    "    print(results)\n",
    "    print(reality)\n",
    "    print('Accuracy: ' + str(accuracy_score(results, reality)))"
   ]
  },
  {
   "cell_type": "code",
   "execution_count": 195,
   "id": "diagnostic-printer",
   "metadata": {},
   "outputs": [
    {
     "name": "stdout",
     "output_type": "stream",
     "text": [
      "['negative', 'negative', 'positive', 'negative', 'negative', 'negative', 'negative', 'positive', 'negative', 'positive']\n",
      "['positive', 'negative', 'positive', 'negative', 'negative', 'negative', 'negative', 'positive', 'positive', 'positive']\n",
      "Accuracy: 0.8\n"
     ]
    }
   ],
   "source": [
    "calculating_accuracy(test_reviews, sets)"
   ]
  },
  {
   "cell_type": "markdown",
   "id": "leading-algeria",
   "metadata": {},
   "source": [
    "### Какие улучшения могут быть имплементированы?\n",
    "Во-первых, следует сбалансировать сеты по эмоциям, так как иначе одна из эмоций может иметь преимущество при оценке отзывов. Во-вторых, можно улучшить процесс оценки с помощью каунтеров, чтобы учитывать частотность тех или иных слов. В-третьих, можно банально увеличить выборку, взяв большее количество банков и отзывов. "
   ]
  },
  {
   "cell_type": "code",
   "execution_count": null,
   "id": "suspended-restaurant",
   "metadata": {},
   "outputs": [],
   "source": []
  }
 ],
 "metadata": {
  "kernelspec": {
   "display_name": "Python 3",
   "language": "python",
   "name": "python3"
  },
  "language_info": {
   "codemirror_mode": {
    "name": "ipython",
    "version": 3
   },
   "file_extension": ".py",
   "mimetype": "text/x-python",
   "name": "python",
   "nbconvert_exporter": "python",
   "pygments_lexer": "ipython3",
   "version": "3.9.1"
  }
 },
 "nbformat": 4,
 "nbformat_minor": 5
}
