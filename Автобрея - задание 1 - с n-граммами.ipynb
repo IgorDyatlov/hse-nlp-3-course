{
 "cells": [
  {
   "cell_type": "markdown",
   "id": "cooked-logging",
   "metadata": {},
   "source": [
    "# Задание 1"
   ]
  },
  {
   "cell_type": "markdown",
   "id": "skilled-brass",
   "metadata": {},
   "source": [
    "**Устанавливаем** некоторые библиотеки"
   ]
  },
  {
   "cell_type": "code",
   "execution_count": 2,
   "id": "fuzzy-trout",
   "metadata": {},
   "outputs": [
    {
     "name": "stdout",
     "output_type": "stream",
     "text": [
      "Requirement already satisfied: pymystem3 in c:\\users\\user\\appdata\\local\\programs\\python\\python39\\lib\\site-packages (0.2.0)\n",
      "Requirement already satisfied: requests in c:\\users\\user\\appdata\\local\\programs\\python\\python39\\lib\\site-packages (from pymystem3) (2.25.1)\n",
      "Requirement already satisfied: idna<3,>=2.5 in c:\\users\\user\\appdata\\local\\programs\\python\\python39\\lib\\site-packages (from requests->pymystem3) (2.10)\n",
      "Requirement already satisfied: chardet<5,>=3.0.2 in c:\\users\\user\\appdata\\local\\programs\\python\\python39\\lib\\site-packages (from requests->pymystem3) (4.0.0)\n",
      "Requirement already satisfied: urllib3<1.27,>=1.21.1 in c:\\users\\user\\appdata\\local\\programs\\python\\python39\\lib\\site-packages (from requests->pymystem3) (1.26.3)\n",
      "Requirement already satisfied: certifi>=2017.4.17 in c:\\users\\user\\appdata\\local\\programs\\python\\python39\\lib\\site-packages (from requests->pymystem3) (2020.12.5)\n"
     ]
    },
    {
     "name": "stderr",
     "output_type": "stream",
     "text": [
      "WARNING: Value for scheme.headers does not match. Please report this to <https://github.com/pypa/pip/issues/9617>\n",
      "distutils: c:\\users\\user\\appdata\\local\\programs\\python\\python39\\Include\\UNKNOWN\n",
      "sysconfig: c:\\users\\user\\appdata\\local\\programs\\python\\python39\\Include\n",
      "WARNING: Additional context:\n",
      "user = False\n",
      "home = None\n",
      "root = None\n",
      "prefix = None\n",
      "WARNING: Value for scheme.headers does not match. Please report this to <https://github.com/pypa/pip/issues/9617>\n",
      "distutils: c:\\users\\user\\appdata\\local\\programs\\python\\python39\\Include\\UNKNOWN\n",
      "sysconfig: c:\\users\\user\\appdata\\local\\programs\\python\\python39\\Include\n",
      "WARNING: Additional context:\n",
      "user = False\n",
      "home = None\n",
      "root = None\n",
      "prefix = None\n",
      "WARNING: You are using pip version 21.1; however, version 21.2.4 is available.\n",
      "You should consider upgrading via the 'c:\\users\\user\\appdata\\local\\programs\\python\\python39\\python.exe -m pip install --upgrade pip' command.\n"
     ]
    },
    {
     "name": "stdout",
     "output_type": "stream",
     "text": [
      "Requirement already satisfied: sklearn in c:\\users\\user\\appdata\\local\\programs\\python\\python39\\lib\\site-packages (0.0)\n",
      "Requirement already satisfied: scikit-learn in c:\\users\\user\\appdata\\local\\programs\\python\\python39\\lib\\site-packages (from sklearn) (0.24.2)\n",
      "Requirement already satisfied: scipy>=0.19.1 in c:\\users\\user\\appdata\\local\\programs\\python\\python39\\lib\\site-packages (from scikit-learn->sklearn) (1.6.0)\n",
      "Requirement already satisfied: threadpoolctl>=2.0.0 in c:\\users\\user\\appdata\\local\\programs\\python\\python39\\lib\\site-packages (from scikit-learn->sklearn) (2.2.0)\n",
      "Requirement already satisfied: numpy>=1.13.3 in c:\\users\\user\\appdata\\local\\programs\\python\\python39\\lib\\site-packages (from scikit-learn->sklearn) (1.19.5)\n",
      "Requirement already satisfied: joblib>=0.11 in c:\\users\\user\\appdata\\local\\programs\\python\\python39\\lib\\site-packages (from scikit-learn->sklearn) (1.0.0)\n"
     ]
    },
    {
     "name": "stderr",
     "output_type": "stream",
     "text": [
      "WARNING: Value for scheme.headers does not match. Please report this to <https://github.com/pypa/pip/issues/9617>\n",
      "distutils: c:\\users\\user\\appdata\\local\\programs\\python\\python39\\Include\\UNKNOWN\n",
      "sysconfig: c:\\users\\user\\appdata\\local\\programs\\python\\python39\\Include\n",
      "WARNING: Additional context:\n",
      "user = False\n",
      "home = None\n",
      "root = None\n",
      "prefix = None\n",
      "WARNING: Value for scheme.headers does not match. Please report this to <https://github.com/pypa/pip/issues/9617>\n",
      "distutils: c:\\users\\user\\appdata\\local\\programs\\python\\python39\\Include\\UNKNOWN\n",
      "sysconfig: c:\\users\\user\\appdata\\local\\programs\\python\\python39\\Include\n",
      "WARNING: Additional context:\n",
      "user = False\n",
      "home = None\n",
      "root = None\n",
      "prefix = None\n",
      "WARNING: You are using pip version 21.1; however, version 21.2.4 is available.\n",
      "You should consider upgrading via the 'c:\\users\\user\\appdata\\local\\programs\\python\\python39\\python.exe -m pip install --upgrade pip' command.\n"
     ]
    },
    {
     "name": "stdout",
     "output_type": "stream",
     "text": [
      "Requirement already satisfied: bs4 in c:\\users\\user\\appdata\\local\\programs\\python\\python39\\lib\\site-packages (0.0.1)\n",
      "Requirement already satisfied: beautifulsoup4 in c:\\users\\user\\appdata\\local\\programs\\python\\python39\\lib\\site-packages (from bs4) (4.9.3)\n",
      "Requirement already satisfied: soupsieve>1.2 in c:\\users\\user\\appdata\\local\\programs\\python\\python39\\lib\\site-packages (from beautifulsoup4->bs4) (2.1)\n"
     ]
    },
    {
     "name": "stderr",
     "output_type": "stream",
     "text": [
      "WARNING: Value for scheme.headers does not match. Please report this to <https://github.com/pypa/pip/issues/9617>\n",
      "distutils: c:\\users\\user\\appdata\\local\\programs\\python\\python39\\Include\\UNKNOWN\n",
      "sysconfig: c:\\users\\user\\appdata\\local\\programs\\python\\python39\\Include\n",
      "WARNING: Additional context:\n",
      "user = False\n",
      "home = None\n",
      "root = None\n",
      "prefix = None\n",
      "WARNING: Value for scheme.headers does not match. Please report this to <https://github.com/pypa/pip/issues/9617>\n",
      "distutils: c:\\users\\user\\appdata\\local\\programs\\python\\python39\\Include\\UNKNOWN\n",
      "sysconfig: c:\\users\\user\\appdata\\local\\programs\\python\\python39\\Include\n",
      "WARNING: Additional context:\n",
      "user = False\n",
      "home = None\n",
      "root = None\n",
      "prefix = None\n",
      "WARNING: You are using pip version 21.1; however, version 21.2.4 is available.\n",
      "You should consider upgrading via the 'c:\\users\\user\\appdata\\local\\programs\\python\\python39\\python.exe -m pip install --upgrade pip' command.\n"
     ]
    },
    {
     "name": "stdout",
     "output_type": "stream",
     "text": [
      "Requirement already satisfied: nltk in c:\\users\\user\\appdata\\local\\programs\\python\\python39\\lib\\site-packages (3.5)\n",
      "Requirement already satisfied: click in c:\\users\\user\\appdata\\local\\programs\\python\\python39\\lib\\site-packages (from nltk) (7.1.2)\n",
      "Requirement already satisfied: joblib in c:\\users\\user\\appdata\\local\\programs\\python\\python39\\lib\\site-packages (from nltk) (1.0.0)\n",
      "Requirement already satisfied: regex in c:\\users\\user\\appdata\\local\\programs\\python\\python39\\lib\\site-packages (from nltk) (2020.11.13)\n",
      "Requirement already satisfied: tqdm in c:\\users\\user\\appdata\\local\\programs\\python\\python39\\lib\\site-packages (from nltk) (4.56.0)\n"
     ]
    },
    {
     "name": "stderr",
     "output_type": "stream",
     "text": [
      "WARNING: Value for scheme.headers does not match. Please report this to <https://github.com/pypa/pip/issues/9617>\n",
      "distutils: c:\\users\\user\\appdata\\local\\programs\\python\\python39\\Include\\UNKNOWN\n",
      "sysconfig: c:\\users\\user\\appdata\\local\\programs\\python\\python39\\Include\n",
      "WARNING: Additional context:\n",
      "user = False\n",
      "home = None\n",
      "root = None\n",
      "prefix = None\n",
      "WARNING: Value for scheme.headers does not match. Please report this to <https://github.com/pypa/pip/issues/9617>\n",
      "distutils: c:\\users\\user\\appdata\\local\\programs\\python\\python39\\Include\\UNKNOWN\n",
      "sysconfig: c:\\users\\user\\appdata\\local\\programs\\python\\python39\\Include\n",
      "WARNING: Additional context:\n",
      "user = False\n",
      "home = None\n",
      "root = None\n",
      "prefix = None\n",
      "WARNING: You are using pip version 21.1; however, version 21.2.4 is available.\n",
      "You should consider upgrading via the 'c:\\users\\user\\appdata\\local\\programs\\python\\python39\\python.exe -m pip install --upgrade pip' command.\n",
      "\"nltk.download\" ­Ґ пў«пҐвбп ў­гваҐ­­Ґ© Ё«Ё ў­Ґи­Ґ©\n",
      "Є®¬ ­¤®©, ЁбЇ®«­пҐ¬®© Їа®Ја ¬¬®© Ё«Ё Ї ЄҐв­л¬ д ©«®¬.\n"
     ]
    },
    {
     "name": "stdout",
     "output_type": "stream",
     "text": [
      "Requirement already satisfied: fake_useragent in c:\\users\\user\\appdata\\local\\programs\\python\\python39\\lib\\site-packages (0.1.11)\n"
     ]
    },
    {
     "name": "stderr",
     "output_type": "stream",
     "text": [
      "WARNING: Value for scheme.headers does not match. Please report this to <https://github.com/pypa/pip/issues/9617>\n",
      "distutils: c:\\users\\user\\appdata\\local\\programs\\python\\python39\\Include\\UNKNOWN\n",
      "sysconfig: c:\\users\\user\\appdata\\local\\programs\\python\\python39\\Include\n",
      "WARNING: Additional context:\n",
      "user = False\n",
      "home = None\n",
      "root = None\n",
      "prefix = None\n",
      "WARNING: Value for scheme.headers does not match. Please report this to <https://github.com/pypa/pip/issues/9617>\n",
      "distutils: c:\\users\\user\\appdata\\local\\programs\\python\\python39\\Include\\UNKNOWN\n",
      "sysconfig: c:\\users\\user\\appdata\\local\\programs\\python\\python39\\Include\n",
      "WARNING: Additional context:\n",
      "user = False\n",
      "home = None\n",
      "root = None\n",
      "prefix = None\n",
      "WARNING: You are using pip version 21.1; however, version 21.2.4 is available.\n",
      "You should consider upgrading via the 'c:\\users\\user\\appdata\\local\\programs\\python\\python39\\python.exe -m pip install --upgrade pip' command.\n"
     ]
    }
   ],
   "source": [
    "!pip install pymystem3\n",
    "!pip install sklearn\n",
    "!pip install bs4\n",
    "!pip install nltk\n",
    "!nltk.download('punkt')\n",
    "!pip install fake_useragent"
   ]
  },
  {
   "cell_type": "markdown",
   "id": "optimum-fourth",
   "metadata": {},
   "source": [
    "Затем **импортируем** библиотеки, необходимые для работы"
   ]
  },
  {
   "cell_type": "code",
   "execution_count": 97,
   "id": "atlantic-monitoring",
   "metadata": {},
   "outputs": [],
   "source": [
    "from bs4 import BeautifulSoup\n",
    "import pymorphy2\n",
    "morph = morph = pymorphy2.MorphAnalyzer()\n",
    "import string\n",
    "punct_li = [word for word in string.punctuation]\n",
    "import requests as req\n",
    "import re\n",
    "from nltk.corpus import stopwords\n",
    "ru_stopwords = stopwords.words('russian')\n",
    "from pymystem3 import Mystem\n",
    "import time\n",
    "from fake_useragent import UserAgent\n",
    "import random\n",
    "from collections import Counter\n",
    "import copy\n",
    "from sklearn.metrics import accuracy_score\n",
    "m = Mystem()"
   ]
  },
  {
   "cell_type": "code",
   "execution_count": 98,
   "id": "waiting-philip",
   "metadata": {},
   "outputs": [],
   "source": [
    "dictionary_pymorphy = {\n",
    "        'INFN': 'VERB',\n",
    "        'PRED': 'VERB',\n",
    "        'GRND': 'VERB',\n",
    "        'VERB':'VERB',\n",
    "        'NOUN': 'NOUN',\n",
    "        'ADJF': 'ADJ',\n",
    "        'ADJS': 'ADJ',\n",
    "        'PRTF': 'ADJ',\n",
    "        'PRTS': 'ADJ',\n",
    "        'NUMR': 'NUM',\n",
    "        'ADVB': 'ADV',\n",
    "        'COMP': 'ADV',\n",
    "        'NPRO': 'PRON',\n",
    "        'PREP': 'ADP',\n",
    "        'CONJ': 'CONJ',\n",
    "        'PRCL': 'PART',\n",
    "        'INTJ': 'PART',  \n",
    "    }"
   ]
  },
  {
   "cell_type": "markdown",
   "id": "charming-basket",
   "metadata": {},
   "source": [
    "Здесь я пытаюсь использовать юзерагент для того, чтобы понизить вероятность бана от сайта"
   ]
  },
  {
   "cell_type": "code",
   "execution_count": 99,
   "id": "cathedral-division",
   "metadata": {},
   "outputs": [
    {
     "name": "stdout",
     "output_type": "stream",
     "text": [
      "{'User-Agent': 'Mozilla/5.0 (Windows NT 6.1; WOW64; rv:31.0) Gecko/20130401 Firefox/31.0'}\n"
     ]
    }
   ],
   "source": [
    "ua = UserAgent(verify_ssl = False)\n",
    "headers = {'User-Agent': ua.random}\n",
    "count = {\n",
    "    'number': 0\n",
    "}\n",
    "print(headers)"
   ]
  },
  {
   "cell_type": "markdown",
   "id": "built-triangle",
   "metadata": {},
   "source": [
    "**Получаем сеты (множества)** по эмоциям"
   ]
  },
  {
   "cell_type": "code",
   "execution_count": 100,
   "id": "diverse-merchant",
   "metadata": {},
   "outputs": [],
   "source": [
    "def getting_sets():\n",
    "    set_positive = set()\n",
    "    set_negative = set()\n",
    "    counter_positive = Counter()\n",
    "    counter_negative = Counter()\n",
    "    banks = ['rsb', 'sovcombank']\n",
    "    for bank in banks:\n",
    "        count_positive = 0\n",
    "        count_negative = 0\n",
    "        for i in range(1, 25):\n",
    "            if count_positive == 55 and count_negative == 55:\n",
    "                break\n",
    "            else:\n",
    "                time.sleep(8)\n",
    "                resp = req.get(f'https://www.banki.ru/services/responses/bank/{bank}/?is_countable=on&page={i}', \n",
    "                               proxies = {'https://135.181.61.25': '36135'}, headers = headers)\n",
    "                soup = BeautifulSoup(resp.content, 'html.parser')\n",
    "                stuff = soup.find_all('article', class_ = 'responses__item')\n",
    "                for one in stuff:\n",
    "                    if count_positive == 55 and count_negative == 55:\n",
    "                        break\n",
    "                    elif one.find('span', class_ = 'rating-grade rating-grade--small rating-grade--value-1') != None and count_negative < 55:\n",
    "                        count_negative += 1\n",
    "                        text_experiment = one.find('div', class_ = 'responses__item__message markup-inside-small markup-inside-small--bullet').getText().lower()\n",
    "                        text_experiment = re.sub('\\n|  ', ' ', text_experiment)\n",
    "                        text_experiment = re.sub(r'[!/?/.,»«:]', '', text_experiment)\n",
    "                        text_experiment = re.sub(r' – | –- ', ' ', text_experiment)\n",
    "                        parsed_li = [(morph.parse(element)[0].word, dictionary_pymorphy[str(morph.parse(element)[0].tag).split(',')[0].split(' ')[0]]) \n",
    "                                        for element in text_experiment.split(' ') if str(morph.parse(element)[0].tag).split(',')[0].split(' ')[0] in dictionary_pymorphy]\n",
    "                        for tup in range(len(parsed_li)):\n",
    "                            #print((parsed_li[tup], parsed_li[tup + 1], parsed_li[tup + 2]))\n",
    "                            if tup + 2 <= len(parsed_li):\n",
    "                                if parsed_li[tup][1] == 'ADV' and parsed_li[tup + 1][1] == 'ADV' or parsed_li[tup][1] == 'ADV' and parsed_li[tup + 1][1] == 'VERB' or parsed_li[tup][1] == 'ADV' and parsed_li[tup + 1][1] == 'ADJ':\n",
    "                                    set_negative.add(str(parsed_li[tup][0] + ' ' + parsed_li[tup + 1][0]))\n",
    "                                    counter_negative[str(parsed_li[tup][0] + ' ' + parsed_li[tup + 1][0])] += 3\n",
    "                                elif parsed_li[tup][1] == 'ADV' and parsed_li[tup + 1][0] == 'и' and parsed_li[tup + 2][1] == 'ADV':\n",
    "                                    set_negative.add(str(parsed_li[tup][0] + ' ' + parsed_li[tup + 1][0] + parsed_li[tup + 2][0]))\n",
    "                                    counter_negative[str(parsed_li[tup][0] + ' ' + parsed_li[tup + 1][0] + parsed_li[tup + 2][0])] += 3\n",
    "                                else:\n",
    "                                    continue\n",
    "                            else:\n",
    "                                continue\n",
    "                        text = m.lemmatize(one.find('div', class_ = 'responses__item__message markup-inside-small markup-inside-small--bullet').getText().lower())\n",
    "                        for word in text:\n",
    "                            set_negative.add(word)\n",
    "                            counter_negative[word] += 1\n",
    "                        print(str('count_negative: ' + str(count_negative)))\n",
    "                    elif one.find('span', class_ = 'rating-grade rating-grade--small rating-grade--value-5') != None and count_positive < 55:\n",
    "                        count_positive += 1\n",
    "                        text_experiment = one.find('div', class_ = 'responses__item__message markup-inside-small markup-inside-small--bullet').getText().lower()\n",
    "                        text_experiment = re.sub('\\n|  ', ' ', text_experiment)\n",
    "                        text_experiment = re.sub(r'[!/?/.,»«:]', '', text_experiment)\n",
    "                        text_experiment = re.sub(r' – | –- ', ' ', text_experiment)\n",
    "                        parsed_li = [(morph.parse(element)[0].word, dictionary_pymorphy[str(morph.parse(element)[0].tag).split(',')[0].split(' ')[0]])   \n",
    "                                     for element in text_experiment.split(' ') if str(morph.parse(element)[0].tag).split(',')[0].split(' ')[0] in dictionary_pymorphy]\n",
    "                        for tup in range(len(parsed_li)):\n",
    "                            #print((parsed_li[tup][1], parsed_li[tup + 1][1], parsed_li[tup + 2][1]))\n",
    "                            if tup + 2 <= len(parsed_li):\n",
    "                                if parsed_li[tup][1] == 'ADV' and parsed_li[tup + 1][1] == 'ADV' or parsed_li[tup][1] == 'ADV' and parsed_li[tup + 1][1] == 'VERB' or parsed_li[tup][1] == 'ADV' and parsed_li[tup + 1][1] == 'ADJ':\n",
    "                                    set_positive.add(str(parsed_li[tup][0] + ' ' + parsed_li[tup + 1][0]))\n",
    "                                    counter_positive[str(parsed_li[tup][0] + ' ' + parsed_li[tup + 1][0])] += 3\n",
    "                                elif parsed_li[tup][1] == 'ADV' and parsed_li[tup + 1][0] == 'и' and parsed_li[tup + 2][1] == 'ADV':\n",
    "                                    set_positive.add(str(parsed_li[tup][0] + ' ' + parsed_li[tup + 1][0] + parsed_li[tup + 2][0]))\n",
    "                                    counter_positive[str(parsed_li[tup][0] + ' ' + parsed_li[tup + 1][0] + parsed_li[tup + 2][0])] += 3\n",
    "                                else:\n",
    "                                    continue\n",
    "                            else:\n",
    "                                continue\n",
    "                        text = m.lemmatize(one.find('div', class_ = 'responses__item__message markup-inside-small markup-inside-small--bullet').getText().lower())\n",
    "                        for word in text:\n",
    "                            set_positive.add(word)\n",
    "                            counter_positive[word] += 1\n",
    "                        print(str('count_positive: ' + str(count_positive)))\n",
    "                    else:\n",
    "                        continue\n",
    "    return [set_positive, set_negative, counter_positive, counter_negative]"
   ]
  },
  {
   "cell_type": "markdown",
   "id": "dietary-uniform",
   "metadata": {},
   "source": [
    "**Очищаем сеты** от различных символов, которые могут помешать в оценке"
   ]
  },
  {
   "cell_type": "code",
   "execution_count": 101,
   "id": "toxic-cancer",
   "metadata": {},
   "outputs": [],
   "source": [
    "def cleaning(list_of_sets):\n",
    "    set_positive = copy.copy(list_of_sets[0])\n",
    "    for word in list_of_sets[0]:\n",
    "        if list_of_sets[2][word] < 2 or word in ru_stopwords or re.search('\\n|\\t|.\\xa0|[0-9]', word) != None or word in punct_li or word == '':\n",
    "            set_positive.discard(word)\n",
    "    set_negative = copy.copy(list_of_sets[1])\n",
    "    for word in list_of_sets[1]:\n",
    "        if list_of_sets[3][word] < 2 or word in ru_stopwords or re.search('\\n|\\t|.\\xa0|[0-9]', word) != None or word in punct_li or word == '':\n",
    "            set_negative.discard(word)\n",
    "    return [set_positive, set_negative, list_of_sets[2], list_of_sets[3]]"
   ]
  },
  {
   "cell_type": "markdown",
   "id": "appreciated-prague",
   "metadata": {},
   "source": [
    "Ниже я **проверяю работу** этих функций"
   ]
  },
  {
   "cell_type": "code",
   "execution_count": 102,
   "id": "appreciated-japan",
   "metadata": {
    "scrolled": true
   },
   "outputs": [
    {
     "name": "stdout",
     "output_type": "stream",
     "text": [
      "count_negative: 1\n",
      "count_positive: 1\n",
      "count_negative: 2\n",
      "count_negative: 3\n",
      "count_negative: 4\n",
      "count_positive: 2\n",
      "count_positive: 3\n",
      "count_negative: 5\n",
      "count_positive: 4\n",
      "count_negative: 6\n",
      "count_negative: 7\n",
      "count_negative: 8\n",
      "count_positive: 5\n",
      "count_negative: 9\n",
      "count_negative: 10\n",
      "count_negative: 11\n",
      "count_positive: 6\n",
      "count_negative: 12\n",
      "count_positive: 7\n",
      "count_negative: 13\n",
      "count_positive: 8\n",
      "count_positive: 9\n",
      "count_positive: 10\n",
      "count_positive: 11\n",
      "count_negative: 14\n",
      "count_positive: 12\n",
      "count_negative: 15\n",
      "count_negative: 16\n",
      "count_positive: 13\n",
      "count_positive: 14\n",
      "count_negative: 17\n",
      "count_positive: 15\n",
      "count_positive: 16\n",
      "count_positive: 17\n",
      "count_positive: 18\n",
      "count_negative: 18\n",
      "count_positive: 19\n",
      "count_positive: 20\n",
      "count_negative: 19\n",
      "count_positive: 21\n",
      "count_positive: 22\n",
      "count_negative: 20\n",
      "count_positive: 23\n",
      "count_negative: 21\n",
      "count_positive: 24\n",
      "count_negative: 22\n",
      "count_positive: 25\n",
      "count_positive: 26\n",
      "count_positive: 27\n",
      "count_positive: 28\n",
      "count_positive: 29\n",
      "count_positive: 30\n",
      "count_positive: 31\n",
      "count_positive: 32\n",
      "count_positive: 33\n",
      "count_negative: 23\n",
      "count_negative: 24\n",
      "count_positive: 34\n",
      "count_positive: 35\n",
      "count_negative: 25\n",
      "count_positive: 36\n",
      "count_negative: 26\n",
      "count_positive: 37\n",
      "count_positive: 38\n",
      "count_positive: 39\n",
      "count_positive: 40\n",
      "count_negative: 27\n",
      "count_positive: 41\n",
      "count_positive: 42\n",
      "count_negative: 28\n",
      "count_positive: 43\n",
      "count_positive: 44\n",
      "count_positive: 45\n",
      "count_negative: 29\n",
      "count_positive: 46\n",
      "count_negative: 30\n",
      "count_negative: 31\n",
      "count_positive: 47\n",
      "count_negative: 32\n",
      "count_negative: 33\n",
      "count_negative: 34\n",
      "count_negative: 35\n",
      "count_negative: 36\n",
      "count_negative: 37\n",
      "count_negative: 38\n",
      "count_positive: 48\n",
      "count_negative: 39\n",
      "count_positive: 49\n",
      "count_positive: 50\n",
      "count_negative: 40\n",
      "count_negative: 41\n",
      "count_negative: 42\n",
      "count_negative: 43\n",
      "count_positive: 51\n",
      "count_negative: 44\n",
      "count_negative: 45\n",
      "count_negative: 46\n",
      "count_negative: 47\n",
      "count_negative: 48\n",
      "count_positive: 52\n",
      "count_positive: 53\n",
      "count_positive: 54\n",
      "count_negative: 49\n",
      "count_negative: 50\n",
      "count_negative: 51\n",
      "count_positive: 55\n",
      "count_negative: 52\n",
      "count_negative: 53\n",
      "count_negative: 54\n",
      "count_negative: 55\n",
      "count_positive: 1\n",
      "count_negative: 1\n",
      "count_positive: 2\n",
      "count_positive: 3\n",
      "count_positive: 4\n",
      "count_negative: 2\n",
      "count_positive: 5\n",
      "count_negative: 3\n",
      "count_negative: 4\n",
      "count_negative: 5\n",
      "count_negative: 6\n",
      "count_positive: 6\n",
      "count_positive: 7\n",
      "count_negative: 7\n",
      "count_positive: 8\n",
      "count_positive: 9\n",
      "count_negative: 8\n",
      "count_positive: 10\n",
      "count_negative: 9\n",
      "count_negative: 10\n",
      "count_positive: 11\n",
      "count_negative: 11\n",
      "count_positive: 12\n",
      "count_negative: 12\n",
      "count_positive: 13\n",
      "count_negative: 13\n",
      "count_negative: 14\n",
      "count_positive: 14\n",
      "count_negative: 15\n",
      "count_negative: 16\n",
      "count_positive: 15\n",
      "count_negative: 17\n",
      "count_positive: 16\n",
      "count_negative: 18\n",
      "count_negative: 19\n",
      "count_positive: 17\n",
      "count_negative: 20\n",
      "count_negative: 21\n",
      "count_negative: 22\n",
      "count_negative: 23\n",
      "count_positive: 18\n",
      "count_positive: 19\n",
      "count_negative: 24\n",
      "count_positive: 20\n",
      "count_negative: 25\n",
      "count_positive: 21\n",
      "count_negative: 26\n",
      "count_positive: 22\n",
      "count_positive: 23\n",
      "count_positive: 24\n",
      "count_positive: 25\n",
      "count_negative: 27\n",
      "count_positive: 26\n",
      "count_positive: 27\n",
      "count_negative: 28\n",
      "count_positive: 28\n",
      "count_positive: 29\n",
      "count_negative: 29\n",
      "count_negative: 30\n",
      "count_positive: 30\n",
      "count_negative: 31\n",
      "count_positive: 31\n",
      "count_negative: 32\n",
      "count_negative: 33\n",
      "count_positive: 32\n",
      "count_negative: 34\n",
      "count_positive: 33\n",
      "count_negative: 35\n",
      "count_positive: 34\n",
      "count_positive: 35\n",
      "count_positive: 36\n",
      "count_positive: 37\n",
      "count_positive: 38\n",
      "count_positive: 39\n",
      "count_positive: 40\n",
      "count_negative: 36\n",
      "count_positive: 41\n",
      "count_negative: 37\n",
      "count_positive: 42\n",
      "count_positive: 43\n",
      "count_negative: 38\n",
      "count_positive: 44\n",
      "count_negative: 39\n",
      "count_negative: 40\n",
      "count_positive: 45\n",
      "count_negative: 41\n",
      "count_negative: 42\n",
      "count_positive: 46\n",
      "count_negative: 43\n",
      "count_positive: 47\n",
      "count_positive: 48\n",
      "count_positive: 49\n",
      "count_positive: 50\n",
      "count_positive: 51\n",
      "count_positive: 52\n",
      "count_negative: 44\n",
      "count_negative: 45\n",
      "count_positive: 53\n",
      "count_positive: 54\n",
      "count_negative: 46\n",
      "count_positive: 55\n",
      "count_negative: 47\n",
      "count_negative: 48\n",
      "count_negative: 49\n",
      "count_negative: 50\n",
      "count_negative: 51\n",
      "count_negative: 52\n",
      "count_negative: 53\n",
      "count_negative: 54\n",
      "count_negative: 55\n"
     ]
    }
   ],
   "source": [
    "sets = cleaning(getting_sets())"
   ]
  },
  {
   "cell_type": "code",
   "execution_count": 103,
   "id": "systematic-tactics",
   "metadata": {},
   "outputs": [],
   "source": [
    "positive_start = {elem for elem in sets[0]}\n",
    "sets[0].difference_update(sets[1])\n",
    "sets[1].difference_update(positive_start)"
   ]
  },
  {
   "cell_type": "code",
   "execution_count": 104,
   "id": "stopped-beaver",
   "metadata": {},
   "outputs": [
    {
     "name": "stdout",
     "output_type": "stream",
     "text": [
      "{'побольше таких', 'оперативно идёт', 'чётко сработали', 'быстро проверила', 'заблаговременно держал', 'крайне удобнорадует', 'удобно делать', 'потребитель', 'уже сейчас', 'уже совершенную', 'копить', 'квалифицированный', 'ранее уже', 'сразу отказался', 'любимый', 'недавно получила', 'преимущество', 'михаил', 'доброжелательный', 't', 'техподдержка', 'грамотный', 'быстро понять', 'лояльно вернули', 'исходить', 'всегда ссылались', 'ставить', 'реально решают', 'максимальный', 'где незамедлительно', 'уже всеми', 'сразу ответил', 'алексей', 'грамотно полно', 'легко', 'елена', 'вежливость', 'очень ответственно', 'отлично', 'валюта', 'эмоция', 'создавать', 'целое', 'ещё был', 'удовлетворять', 'всегда выручает', 'несколько выше', 'всегда ответят', 'быстро отвечают', 'вовремя гасить', 'счастливый', 'вовремя выплачивать', 'излагать', 'ленин', 'сотрудничество', 'качественно', 'смотреть', 'бытовой', 'подробно ипонятно', 'почему вчера', 'приятно обязательно', 'правильно сделать', 'надбавка', 'ранее купленный', 'лучше пообщаться', 'своевременно предоставленную', 'расрочка', 'выручать', 'летвсе устраиваетбыла', 'додо', 'очень подробно', 'категория', 'антон', 'исчезлиочень смутилсяпозвонил', 'навстречу', 'зухра', 'своевременно вносить', 'очень нравится', 'немножко ошибся', 'всегда решать', 'столько', 'двойной', 'николаевна', 'изначально написала', 'анна', ' %, ', 'очень подкупает', 'узналаочень благодарна', 'быстро поэтому', 'полностью бесплатная', 'беседа', 'менее поэтому', 'одежда', 'искомый', 'отличный', 'улыбка', 'нестандартный', 'забирать', 'только рассказала', 'уменьшение', 'где сообщили', 'недавно погасила', 'др', 'давно впервые', 'куда-то отключалась', 'строго отказалась', 'приятно порадовал', 'сеть', 'действительно оправдывает', 'переезжать', 'теперь ежемесячно', ', + ', 'обычно рассматривают', 'выбор', 'володарский', 'обувь', 'ко', 'наталья', 'sv', 'легко выполняются', 'ов', 'игра', 'поблагодарить', 'заводить', 'опять стала', 'очень важно', 's', 'честно говоря', 'ольга', 'вообще супер', 'наиболее предпочтительной', 'профессионально', 'внимательно прочитал', 'грамотно разъяснила', 'только вовремя', 'очень выгодная', 'изначально размещала', 'дальше буду', 'очень помог', 'очень расстроилась', 'несколько длительно', 'всегда был', 'подробный', 'уже утром', 'мвидео', 'чисто моя', 'очень большой', 'нарушение', 'выходной', 'вежливый', 'попутно исовершенно', 'наличие', 'партнерство', 'дальше оплачивать', 'особый', 'авиа', 'всегда знаю', 'многий', 'обязательно повлияла', 'вновь смог', 'поэтому сама', 'apple', 'соответствие', 'правильность', 'видимо уже', 'быстро оформила', 'описание', 'огромный', 'оперативность', 'полно итерпеливо', 'прошлый', 'шоссе', 'скрин', 'стараться', 'кредитка', 'здесь качественный', 'режим', 'захотеться', 'вызывать', 'очень удобная', 'удобно оплачивать', 'очень выгодными', 'оперативно получить', 'рамка', 'приятно знать', 'всегда получу', 'полностью исполнила', 'оперативно работать', 'достаточно быстро', 'остальной', 'благодарность', 'отмена', 'компенсировать', 'аида', 'оперативный', 'задолжность', 'довольно высокий', 'минус', 'обратный', 'очень быструю', 'попутно узнав', 'поэтому долгие', 'быстро деликатно', 'фамилия', 'приятный', 'клиентоориентированность', 'всегда подскажут', 'сегодня звонил', 'выслушивать', 'профессионализм', 'уже несколько', 'ценить', 'уже искала', 'полностью нашу', 'более интересную', 'предварительно оставлены', 'лично посещать', 'дарья', 'сразу выдала', 'милый', 'очень большое', 'екатерина', 'раньше сталкивался', 'совершенно случайно', 'корректно общался', 'незамедлительно получила', 'подход', 'быстро решают', '(всего рабочих', 'уже получу', 'неохотно разговаривают', 'совсем маленький', 'сейчас имею', 'выше заявленного', 'оперативно рассмотрели', 'ежемесячный', '; [', 'различный', 'ый', 'переход', 'профессиональный', 'онлайн выдают', 'банально сам', 'искренне', 'деликатно благожелательно', 'смело рекомендую', 'дмитрий', 'применять', 'немного запутались', 'формула', 'леруа', 'жить', 'впервые потребовалось', 'пластик', 'входить', 'регулярно быстро', 'уже который', 'отреагировать', 'недавно', 'очень милая', 'кстати', 'путешествие', 'устанавливать', 'накоплять', 'высота', 'проконсультировать', 'отсебятина', 'лояльно отнесутся', '+ ', 'быстро икачественно', 'индивидуальный', 'сегда выслушают', 'тактичный', 'попутно', 'анастасия', 'быстро помогли', 'значит', '\\xa0грамотно ипонятно', 'оперативно решил', 'светлана', 'азс', 'оперативно было', 'чу', 'чуткий', 'подробно рассказывает', 'изначально выбрал', 'качественно помогают', 'например', 'параллельно обратился', 'т настоящий', 'пока всем', 'всегдакогда нужно', 'впервые поэтому', 'уже потом', 'обязательство', 'быстро иквалифицированно', 'полностью устраивал', 'чувствоваться', 'быстро решает', 'взнос', 'прозрачно', 'ущемлять', 'ксения', 'сегодня (всего', 'всегда идти', 'отлично работает', 'благодарить', 'особенно', 'бонусный', 'быстрый', 'постоянно пользоваться', 'сейчас хотелось', 'молодец', 'всегда подробно', 'внимательно выслушали', 'сложный', 'любезно проинформируют', 'буквально', 'смотря', 'отключение', 'счастие', 'желать', 'очень благодарен', 'тогда решил', 'искренне написал', 'консультант', 'несколько моих', 'й', 'допускать', 'терпеливо', 'инспектор', 'тщательно подошёл', 'оперативно решены', 'подводный', 'навсегда', 'очень бесила', 'одновременно', 'назад возникла', 'чадо', 'крайне внимательна', 'вовремя заблокировав', 'знакомый', 'почему начислено', 'заветный', 'адекватный', 'серьёзно выделяется', 'мес', 'недавно возобновил', 'специально вынуждает', 'вчера устал', 'встречаться', 'переоформление', 'челябинск', 'вставать', 'кристина', 'успешно пользуемся', 'социальный', 'профессионально решила', 'защита', 'честно', 'samsung', 'осуществлять', 'клиентоориентированный', '\" (', 'охотно оперативно', 'предел', 'случайно перевела', 'доступно объяснила', 'обидно потерять', 'очень довольна', 'ясно объясняет', 'случайно случайно', 'снова приходит', 'банкетак получилось', 'вовремя', 'полностью довольна', 'понравиться', 'юлия', 'очень позитивной', ']–', 'очень доброжелательны', 'имя', 'быстро рассматривает', 'ещё довольно', 'сейчас появилась', 'где можно', 'обычно делают', 'порадовать', 'небезразличный', 'всегда быстро', 'часто возникает', 'быстро умело', 'кешбек', 'успех', 'постоянно развивается', 'сначала изучить', 'уверенный', 'удержание', 'уже позвонили', 'быстро вежливо', 'куда-нибудь слетать', 'здоровый', 'искренне пока', 'внимательный', 'техника', 'быстро окупитсязапрашивал', 'кешбэк', 'подробно объяснили', 'доходчиво играмотно', 'кэшбек', 'много приходится', 'сразу несколько', 'человечески', 'доходчиво всегда', 'долго ожидатькак', 'з', '\\xa0иногда лучше', 'грамотно объяснил', 'приятно иметь', 'понятный', 'дистанционно', 'утром следующего', 'бонус', 'ещё годовых', 'незамедлительно', 'компетентно вежливо', 'очень объясняю', 'предварительно оформив', 'рост', 'действительно решает', 'приятно удивлены', 'pay', 'доходчиво', 'луки', 'оказание', 'выражать', 'доначислить', 'очень быстро', 'сразу отреагировал', 'ирина', 'обязательно', 'всегда готова', 'сначала ответили', 'очень понравилось', 'очень была', 'подробно проконсультировал', 'обязательно буду', 'весьма обрадовало', 'билет', 'супермаркет', 'всегда здороваются', 'недостаточно осведомлен', 'камень', 'сейчас хочу', 'ежемесячно нужно', 'доброжелательность', 'всегда вежлива', 'только вашего', 'неоднократно спрашивал', 'вина', 'ещё добрые', 'человечность', 'род', 'там очень', 'содержаться', ' % ', 'пока ожидает', 'навстречувсего хорошего', 'действительно предоставляется', 'полезный', 'обязательно оформлю', 'сходу установить', 'дистанционно)очень довольна', 'очень приятная', 'перечень', 'некорректно неохотно', 'достаточно тратить', 'случаться', 'оперативно позвонила', 'приятно рекомендую', 'делаться', 'дальше пользоваться', 'проявлять', 'приятно удивлён', 'виктория', 'экстра', 'дистанционно данный', 'квалифицированно проконсультировали', 'оборот', 'поэтому впредь', 'филиал', 'очень ценно', 'подробно рассказала', 'сегодня такой', 'бесплатно (это', 'всегда могу', 'попытать', '…', 'оперативно меньше', 'подробно разберутся', 'назад оформила', 'комфортно общаться', 'особенно приятно', 'анатолий', 'более ожидаемого', 'нагрузка', 'очень довольны', 'удобно расположен', 'очень обрадовало', 'приятно было', 'быстрее закрыть', 'постоянно пользуюсь', 'очень радует', 'всегда могут', 'подробно объяснила', 'заново нужно', 'очень благодарна', 'снова позвонил', 'расторжение', 'минимально возможного', 'обрадовать', 'сразу позвонил', 'навсегда покинула', 'всегда встречает', 'очень приятно', 'внимательно выслушала', 'впредь буду', 'только собственными', 'беспроцентный', 'опять попытать', 'постоянно обслуживаюсь', 'сейчас искренне', 'уже многим', 'след', 'разрешение', 'быстро таким', '\" , ', 'далее звонила', 'всегда любезно', 'отдельный', 'код', 'очень понравился', '(очень общаюсь', 'впервые встретился', 'эксперт', 'активировать', 'лояльно относиться', 'процветание', 'банально', 'наличка', 'все-таки', 'честность', 'отмечать', 'корректно ипрофессионально', 'активно пользоваться', 'ш', ' -', 'качественно ипонятно', 'достаточно удобно', 'всегда заинтересована', 'очень заинтересовал', 'очень понятно', 'карьерный', 'включение', 'ответственно подошла', 'нормативный', 'досрочно закрыла', 'коллектив', 'давно пользуюсь', 'внятно ипонятно', 'всегда подсказывает', 'приятно', 'достаточно вежлив', 'грамотно составить', 'очень вежлива', 'естественно пошёл', 'внимательно выслушила', 'оперативно пользуюсь', 'заботиться', 'часто бывает', 'нравиться', 'рождение', 'точно могу', 'положительно мою', 'далее обратилась', 'л', 'часто куда-то', 'оперативно икачественно', 'благо', 'авиакарта', 'более удобный', 'подписка', 'очень удобное', 'гораздо быстрей', 'опять звоню', 'сегодня общалась', 'четко', 'свойчестно накопленный', 'сначала платила', 'подлежать', 'улица', 'очень выгодных', 'накапливать', 'довольно выгодно', 'уже третья', 'всегда приятное', 'всегда получал', 'руководство', 'довольно лояльно', 'семья', 'очень много', 'только банковский', 'google', 'главный', 'трудный', 'приятно общаться', 'конкретный', 'достигать', 'понимание', 'неоднократно', 'очень удачно', 'благодаря', 'действительно индивидуальное', 'подольше попутно', 'очень доброжелательный', 'хорошо объяснила', 'сразу часто', 'уже досрочно', 'поэтому было', 'недавно оказался', 'всегда улыбчива', 'бесить', ' = ', 'невнимательность', 'сразу сделала', 'супер', 'моментально понял', 'великий', 'быстро ивежливовсе', 'быстро произвела', 'чётко иясно', 'сразу отправил', 'уровень', 'весьма развита', 'понятно рассказал', 'повышение', 'сумка', 'консультироваться', 'назад совершил', 'подробно рассказал', 'восстановление', 'активация', 'заинтересовывать', 'здесь может', 'нарушать', 'всегда моментальный', 'менять', 'поздно нужно', 'терять', 'ву', 'лояльно', 'очень остался', 'убеждаться', 'определенный', 'выгодно купить', 'корректно', 'статья', 'д буду', 'повод', 'давно нравится', 'более подробная', 'всегда идут', 'долго решалась', 'снижение', 'полностью потратить', 'раньше очень', 'пообщаться', 'подробность', 'непростой', 'поощрять', 'сегодня решил', 'ещё больше', 'почти почти', 'действительно стал', 'тамбов', 'короткий', 'достаточно внимательно', 'действительно заботитесь', 'честный', 'качественно оповещает', 'блин', 'относительно', 'ozon', 'сразу пригласила', 'сколько ждать', 'раньше решила', 'жкх', 'терпеливо отвечают', 'всегда раньше', 'вновь обратиться', 'случайно перевёл', 'случайно активировал', 'инициатива', 'своевременно', 'добровольный', 'довольно прозрачно', 'главное', 'удобный', 'быстро подробно', 'расстраиваться', 'благодарный', 'профессионал', 'добросовестный', 'ребята', 'сейчас попытаюсь', 'достаточно внести', 'долго приходится', 'вода', 'банально простой', 'очень душевный', 'весьма неприятный', 'пользователь', 'радовать', 'оперативно ибыстро', 'необходимость', 'грамотно', 'аочень компетентная', 'понятно идоходчиво'}\n"
     ]
    }
   ],
   "source": [
    "print(sets[0])"
   ]
  },
  {
   "cell_type": "code",
   "execution_count": 105,
   "id": "turned-distributor",
   "metadata": {},
   "outputs": [
    {
     "name": "stdout",
     "output_type": "stream",
     "text": [
      "{'очень рад', 'уже ведусь', 'заново подавать', 'невозможно совершить', 'исправлять', 'совать', 'ответственный', 'пересчет', 'чек', 'паспортный', 'окно', 'настолько', 'бдительный', 'нажимать', 'взамен изъятой', 'сначала вложитесь', 'автомир', 'подписание', 'покупатель', 'подтверждать', 'соответственно выбрали', 'ныне там', 'пополам оплатила', 'суббота', 'оффлайн ничего', 'самара', 'данные', 'больше ибольше', 'уж получилось', 'жалко эти', 'никогда принципиально', 'очень давно', 'прямо сказал', 'вранье', 'потребовать', 'отвратительный', 'точно сообщить', 'несчастный', 'стоить', 'пфр', 'wa', 'точно помню', 'бюджетный', 'умирать', 'пеня', 'неизвестно', ' ~', 'тогда давать', 'вышеуказанный', 'автоматически', 'принадлежать', 'затрачивать', 'возмущаться', 'кормить', 'ускорять', 'более важно', ', - ', 'окончание', 'тепло восточного', 'совкомбанкткранее сотрудничали', 'директор', 'заверять', 'ростов-на-дону', '\"только постоянно', 'туда', 'более-менее нормально', 'дальше началось', 'прием', 'только потом', 'реально', '? ', 'доступ', 'занимать', 'очень плохой', 'направление', 'полностью те', 'долго ещё', 'пригождаться', 'дешево', 'заведомо', 'ру', 'февраль', 'глаз', 'похоже придётся', 'диалог', 'пропорционально оставшимся', 'снисходительно складывала', 'родитель', 'запрещать', ': «', 'оперативно выложил', 'еда', 'обязательно должна', 'сканировать', 'показывать', 'только заполнить', 'старик', 'ежемесячно списывать', 'снова перевести', 'ужасный', 'n', 'куча', 'моб', 'живой', 'росреестр', 'вновь повторил', 'пытаться', 'якобы', 'завтра пропускать', '******', 'там полнейший', '(как будьте', 'зарплата', 'внутренний', 'заключать', 'ещё один', 'контактный', 'менее последний', 'тогда необходимо', 'откуда-то взялась', 'подымать', 'уговаривать', 'активно пользовалась', '???', 'ложный', 'квест', 'заказывать', 'безумно долго', 'действовать', 'пакет', 'старый', 'днейболее того', 'ещё более', 'начальник', 'максимум', 'полностью бесплатно', 'специально обманули', 'смешно уменьшать', 'технически исправным', 'более того', 'тут ещё', 'наказывать', 'процесс', 'вначале', 'начинаться', 'центральный', 'обеспечение', 'весьма кабальные', 'виноватый', 'тлф', 'казаться', 'вновь направило', 'тур', 'сразу сказали', 'технично ждут', 'урегулирование', 'мера', 'светиться', 'как-то', 'что-то', 'забронировать', 'вылет', 'разбирательство', 'снятие', 'апрель', 'лайн', 'каско', 'где сидела', 'досрочно погасить', 'только кредитный', 'исправно', 'вначале порекомендовали', 'совершенно', 'доставка', 'скидка', 'потом опять', 'интересовать', 'громко возмущаться', 'повторять', 'снова иснова', 'обычно открывают', 'дилер', 'длиться', 'информирование', 'непорядочновсячески оттягивают', 'постоянно происходят', ' ****** (', 'немедленно', 'посмотреть', 'оно', 'сразу получил', 'купля', 'лишь', 'подтвердить', 'более худшего', 'уже предоставил', 'назначать', 'отправка', 'образовываться', 'hyundai', '\\xa0что улетаю', 'принцип', 'извинение', 'конкретно', 'видимо продолжается', 'увеличиваться', 'терминал', 'страдать', 'что-то подшаманила', 'составление', 'там минимальная', 'чека', 'включать', 'заблуждение', 'более-менее', 'здоровье', 'здесь исейчас', 'захотеть', 'проводить', 'постоянно проживающим', 'актуально второй', 'специально ввёл', 'доступно ладно', '?!', 'потом ещё', 'тогда ещё', 'домой изучать', 'часто отображается', 'только оформим', 'явно', 'достаточно принести', 'там страхует', 'словокак потом', 'дс', 'можетуже появляется', 'добро', 'прайм', 'заем', 'только (три', 'платежный', 'фраза', ' %', 'позиция', 'вовремя продлён', 'ещё уточнила', 'ограждать', 'половина', 'нигде этот', 'подарочный', 'считаться', 'вход', 'перечисление', 'вновь обращаюсь', 'юрист', 'постоянно перенаправляют', 'значительно завышенной', 'дважды дважды', 'вероятнее всего', 'ранее рекомендовал', 'совсем ничего', 'откуда вдруг', 'сколько было', 'как-то приспосабливался', 'продавать', 'располагаться', 'пенсия', 'уже вступил', 'исправно вносил', 'зачем было', 'актуально стало', ' – ', 'опять позвонил', 'опускать', 'по-свински бросили', 'форма', 'только дублирует', 'близкие', 'уже ладно', 'купюра', 'домой добиралась', 'вчерашний', 'больше никогда', 'движение', '\" - ', 'жизнь', 'озвученоболее того', 'очень непорядочновсячески', 'ещё удивилась', 'там где-то', 'коллега', 'подробнее нажмите', 'насчет', 'реквизит', 'досрочно больше', 'лезть', 'иной', 'затем', 'негатив', 'спамить', 'восток', 'столь долго', 'уже забыл', 'достаточно крупную', 'сильно', 'частично досрочно', 'прямо', 'бац', 'потом заново', 'позже эти', 'дешевле будут', 'уже прошли', 'уже был', 'ничего возмещать', 'объем', ' ) ', 'совсем укали', 'непорядочный', 'фио', 'срочно', 'более выгодных', 'всегда принимают', 'снова возникла', 'видимо только', 'уже начал', 'заведение', '! ', 'нс', 'многодетный', 'представлять', 'незаконно начисленные', 'идиотизм', 'уточнение', 'суммарный', 'ещё нигде', 'где мой', 'полностью выплатил', 'выставлять', 'привлекательный', 'рязань', 'факт', 'сидеть', 'постоянно меняется', 'дом', 'расторгать', 'тип', 'частично досрочное', 'ведение', 'заодно предлагает', 'сюда', 'нечего', 'ава', 'строго ответили', 'транзакция', '***', 'понятно какой', 'непросто спишут', 'сбой', 'совершение', 'полностью оплатил', 'сейчас спустится', 'ю', 'надежда', 'сейчас пытаемся', 'ровно', 'исправно платил', 'настырно первый', 'доплачивать', 'согласно', 'добиваться', 'торт', 'потом произошёл', 'внешне технически', 'дезинформировать', 'иначе', 'сразу была', 'бесконечный', 'передавать', 'кредитоваться', 'откуда', 'обязывать', 'заработный', 'тут уменя', 'активно', 'вечером уже', '*****', 'нигде', 'только больше', 'неизвестный', 'специально написала', 'цифра', 'видимо', 'бред', 'попытка', 'справка', 'сильно разочаровал', 'здесь есть', 'курс', 'сегодня позвонил', 'потом будут', 'максимально было', 'посещение', 'никтоочень жаль', 'курьерский', 'обновляться', 'там подскажутна', 'абсолютно', 'благополучно', 'пандемия', 'сюрприз', 'ехать', 'совсем обнищали', 'вообще нет', 'вишенка', 'болеть', 'далее начались', 'больше постоянно', 'открытый', 'вчера вновь', 'расписываться', 'только разводят', 'признавать', 'уже закрыт', 'абсолютно бесплатна', 'интересно давать', 'достаточно низко', 'лист', 'ничего толкового', 'запись', 'овердрафт', 'близкий', 'гладко удостоверившись', 'детально изучают', 'недостаточно', 'очень жаль', 'грамотно объяснять', 'снова была', 'единица', 'сразу уточнили', 'лежать', 'избежание', 'только смогу', 'управление', 'головной', 'весьма простой', 'тк', 'часто звонить', 'невозможно пользоваться', 'ещё одна', 'невозможно', 'предупреждение', 'испытывать', 'снова разные', 'письмо', 'системно значимый', 'автоматически будут', 'уж очень', 'самостоятельно готовит', 'имущество', 'там где', 'бот', 'уже довольно', 'москвекрайне неприятное', 'подача', 'посылать', 'затем снова', 'всегда пишут', 'муж', 'фото', '(далее открыт', 'немедленно вернуть', 'семь', 'постоянно накапливаются', 'тут ответят', 'автоответчик', 'авто', '\\xa0 \"', 'ближе всего', 'прописка', 'потом начался', 'ещё такие', 'тинькофф', 'сей', 'карман', 'банкротство', 'искать', 'прекращаться', 'план', 'выпуск', 'район', 'сразу дозвонился', 'перевести', 'удалять', 'признание', 'функционал', 'аналогичный', 'повторно уточнил', 'камила', '..', 'залог', 'platinum', 'вообще утерян', 'ст', 'уже близок', 'явно уже', 'точно никогда', 'зачислять', 'врать', 'вообще сказал', 'называть', 'д (такая', 'ошибочно', 'написание', 'снова сказаночто', 'стоять', 'достаточно было', 'шт', 'переспрашивать', 'собираться', 'стс', 'очень оперативно', 'ск', 'долго снисходительно', 'согласный', 'актуальный', 'наглый', 'тут началось', 'уже писала', 'неприятный', 'нормально своими', 'прошлое', 'вообще связываться', 'заполнять', 'только очень', 'затем закрывать', 'почти вся', 'чужой', 'практически', 'подключать', 'операционист', 'трубкувидимо делают', 'очень низко', 'сгорать', 'сегодня только', 'rs', 'слава', 'заканчивать', 'ещё исправить', 'заявлять', 'цена', 'только личный', 'нулевой', 'дальний', 'заведомо сообщил', 'молча платила', 'ошибочно извинились', 'недовольство', 'максимально долго', 'должно', 'путевка', 'мерзко инизко', 'успешно потом', 'твориться', 'арест', 'несмотря', 'вообще сказали', 'отсутствовать', 'вечером позвонив', 'сильно завуалирована', 'оперативно обратился', 'опять списали', 'халвапостоянно неверно', 'фз', 'обрабатывать', 'правильный', 'заведомо ложно', 'зарегистрировать', 'повезти', 'хватить', 'обещать', 'впредь аналогичных', 'мягко', 'вообще невозможно', 'предъявлять', 'ребенок', 'смешно', 'указанный', 'птс', 'взыскание', 'нотариус', 'тишина', 'далее контактный', 'получатель', 'понести', 'прослушивать', 'снова пришёл', 'спешить', 'изменяться', 'чуть менее', 'ока', 'смерть', 'прикладывать', 'по-прежнему доступны', 'активно пользуюсь', 'реклама', 'полгода', 'совершенно негодный', 'обзвон', 'достоверный', 'поэтому решил', 'владеть', 'далее позвонил', 'распечатывать', 'видно', 'минимально возможный', 'квартплата', 'дата', 'картувсе-таки значительных', 'частично', 'непонятно чемдругая', 'предварительно одобрили', 'действующий', 'потерять', 'орган', 'затем потребую', 'бесконечно (чуть', 'расплачиваться', 'программный', 'недовольный', 'никогда больше', 'соответственно', 'переносить', 'исправный', 'бумажка', 'более днейболее', 'спускаться', 'ладно', 'смысл', 'зависать', 'образец', 'вновь начали', 'отрабатывать', 'сбп', 'второй', 'дополнительно пришла', 'снова позвонили', 'опять просидел', '??', 'где-то что-то', 'неизвестно кудана', 'теперь остаётся', 'арбитражный', 'теперь столкнулись', 'сегодня уже', 'соеденить', 'бог', 'более долго', 'капать', 'нотариально заверенное', 'закрытый', 'потом надо', 'обновление', 'больше иметь', 'элементарный', 'чуть больше', 'зачем вводить', 'остаток', 'только рублёвые', 'раньше разобраться', 'присылать', 'пусть', 'нарисовать', 'пропадать', 'настолько завуалированый', 'отсканировать', 'сэкономить', 'видимо другой', 'только русский', 'вторник', 'удивляться', 'попробовать', 'карте(несколько точно', 'приоритетный', 'постепенно рос', 'некомпетентный', 'блокировка', '(больше идешевле', 'мол', 'выводить', 'максимально короткий', 'низко', 'дозваниваться', 'оговаривать', 'обработка', 'гладко', 'завершать', 'копа', 'мясо', 'среда', 'номинал', 'больше идешевле', 'никто', 'зачем дезинформировать', '))', 'пока сами', 'проверка', 'заблаговременно подготовился', 'цб', 'полностью перестало', 'прийти', 'онлайн зачем', 'оперативно перезвонят', 'прощать', 'итого', 'платный', 'уже взял', 'хамство', 'крайне презрительной', 'no', 'ранее возвращены', 'банкрот', 'долго искала', 'менее бюджетную', 'разница', 'беспокоить', 'сюда обходите', 'стадия', 'обращать', 'по-хорошему сказали', 'опротестование', 'очень интересный', 'тут сразу', 'неизвестно сколько', 'страна', '\\xa0 (', 'наоборот ограждать', 'вышеописанный', 'ответственность', 'тон', 'уже сама', 'откуда возник', 'девочка', 'переставать', 'больше должен', 'точно системно', 'записывать', 'сторонний', 'впаривать', 'допы', 'реально самый', 'фактически подталкивает', 'почти пытались', 'уведомлять', 'ипотечный', 'машина', '****', 'незамедлительно удалить', 'посредством', 'давно икак-то', 'коронавирус', 'переплата', 'неверно отображающийся', 'крайне неприятно', 'управлять', 'невозможный', 'предоставление', 'возражение', 'стол', 'готовить', 'почти месячная', 'пора', 'повторный', ') - ', 'https', 'поэтому расторгать', 'нормально', 'позор', 'плавно перетекать', 'тяжело ипостоянно', 'изымать', 'яндекс', 'бэк', 'разговораболее того', '!!', 'ничего говорить', 'процедура', 'поездка', 'отдел', 'завтра', 'каков', 'комментарий', 'стыдно', 'невозможно рассчитаться', 'опять пересчитывают', 'сегодня получила', 'иначе истреплите', 'микро кредитные', 'интересоваться', 'ничего прояснить', '\"как только', 'ошибочно отправленные', 'опять внепланово', 'помнить', 'неприятно видеть', 'обычно думал', 'заплатить', 'явно занимался', 'планировать', 'довольно давно', 'менее крутая', 'д вносил', 'обязательный', 'нагло заверяют', 'опять приложила', 'кто-то', 'опять повысили', 'полтора', 'уже точно', 'читать', 'трубка', 'сегодня утром', 'последующий', 'автоматически списана', 'ходить', 'задумываться', 'ещё включили', 'только чекудалённо', 'д исполнительный', 'сразу увидели', 'согласие', 'ничего сделать', 'потом признали', 'оригинал', 'какой-то', 'дальше капать', 'заговаривать', 'дистанционный', 'грейс', 'вообще никаких', 'хорошо всего', 'сегодня вообще', 'затем сказали', 'продлевать', 'доверенность', 'процентный', 'описывать', 'видимо неевклидова', 'ещё смешнее', 'похоже', 'отдавать', 'непонятный', 'затем оформили', 'только заказная', 'повторяться', 'максимально', 'материал', 'регистрация', 'уже закроете', 'выяснять', 'крайне некорректна', 'запрашивать', 'возмещать', 'задавать', 'закрытие', 'крайне низкий', 'только ходить', 'уже прошёл', 'только один', 'почему один', 'масса', 'календарный', 'кусок', 'копейка', 'дальше будет', 'соответственно повысить', 'зачисление', 'нормальный', 'вышеизложенный', 'приемлемый', 'поехать', 'далее неправдапосле', 'важно запросили', 'потом ссылаются', '(как сказал', 'мать', 'настолько сильно', 'гораздо дороже', 'бесплатно', 'плата', 'копия', 'формирование', 'мск', 'требоваться', 'только оттуда', 'спб', 'область', 'услышать', 'жаловаться', 'сила', 'что-то показалось', 'слишком долго', 'раньше было', 'сейчас нахожусь', 'только сегодня', 'выше описанного', 'кидать', 'поступление', ':\"', 'пока исправляют', 'назад приобрела', 'шило', 'неисправность', 'указание', 'задача', 'неоднократно было', ' )', 'риск', 'сначала нужно', 'ещё дополнительную', 'утверждать', 'странный', 'расти', 'всячески', 'наблюдаться', 'продолжение', 'дважды', 'свободно пользоваться', 'очень долго', 'специально', 'подробно рассказывать', 'сразу поверил', 'мило побеседовали', 'категорически оградить', 'сначала сказал', 'дождаться', 'шок', 'плохо', 'тогда говорил', 'текст', 'показываться', 'посещать', 'удобно пользоваться', 'уплачивать', 'глвчера обратилась', 'озвучивать', 'свидетельство', 'совсем накипело', 'заведомо ложную', 'требовать', 'дочь', 'полностью погасил', 'перенаправлять', 'учет', 'вообще другие', 'бессовестный', 'невозможно отстоять', 'пристав', 'сейчас моё', 'некорректный', 'только подумает', 'развод', 'тело', 'приезжать', 'назад брал', 'электронный', 'обман', 'плечо', 'сертификат', 'постоянно идут', 'полностью погашены', 'верить', 'вновь сообщил', 'довольно оперативно', 'прокуратура', 'слишком большими', 'четверг', 'потом решила', 'сначала начали', 'только потому', 'горе', 'списываться', 'мама', 'дорого', 'основание', 'домой', 'дублировать', 'где данные', 'ранее мой', 'негативный', 'далее выяснилось', 'добавлять', 'корона', 'важно было', 'управляющий', 'обходить', 'сюда прийти', 'выписка', 'сколько стоит', 'туда идтибыла', 'довольно много', 'bot', 'ещё верила', 'уже другой', 'давно проведён', 'зачем звонить', 'московский', '://', 'естественно почему', 'никуда идти', 'слишком', 'фактически', 'значительно', 'что-то отработало', 'зачисляться', 'уже было', 'потенциальный', 'ао', 'определение', 'умышленно умалчивают', 'что-то говорить', 'по-прежнему', 'еле уговорил', 'специально мониторила', 'порекомендовать', 'по-прежнему какую-то', 'сильно упали', 'почти привычным', 'пожалуйста', 'прояснивать', 'поверять', 'исполнительный', 'расчет', 'видимо там', 'абсолютно идентичным', 'оперативно заполнили', 'снова пришло', 'просто-напросто обманным', 'заблокировать', 'платинум', 'приносить', 'бюро', 'обманный', 'повторно соответствующее', 'вынести', 'прямо сейчасчто', 'россия', 'никак', 'ru', 'снова сеяли', 'персональный', 'расчетный', 'утвердительно сказали', 'гражданин', 'ещё мифическая', 'сколько-то там', 'снова прочая', 'опять такой', 'информировать', 'как-то зашла', 'совершенно другую', 'неправдапосле того', 'обрабатываться', 'отписка', 'обещание', 'некомпетентность', 'разочаровывать', 'низкий', 'уже позже', 'наконец шестой', 'свободный', 'там пошли', 'срочно нужно', 'перекидывать', 'пока остаются', 'поэтому загнала', 'долго свободного', 'образование', '%- ', 'ковидный', 'задержка', 'очень большие', 'назад открыли', 'дорога', 'внимательно изучив', 'шаг', 'привычный', 'пол', 'более привлекательным', 'верный', 'оперативно далее', 'ранее было', 'состояние', 'неделя', 'только можетуже', 'очень хочется', 'митинский', 'зачем тогда', 'последний', 'слетать', 'эквайер', 'целый', 'прил', 'вдруг появились', 'уже дважды', 'навязывать', 'конкретно указал', 'подавать', 'повторно', 'очень прошу', 'очень утвердительный', 'случайно увидела', 'специально тянул', 'рефинансировать', 'черный', 'пополнение', 'бросать', 'бумага', 'экран', 'поручение', 'повторно обратился', 'продажа', '!?', 'благополучно погасил', 'убеждать', 'тут русский', 'ровно такое', 'значительно превышающую', 'сегодня пошёл', 'вообще работает', 'уже полностью', 'доставлять', 'наследник', 'только временная', 'граница', 'навязнуть', 'уже починят', 'сложность', 'сознательно выбран', 'жалоба', 'оповещение', 'путь', 'вдруг пригодится', 'творить', 'снова отказал', 'индивидуально будут', 'неудобство', 'гора', 'более оперативно\"сегодня', 'выше установленного', 'уже набрал', 'база', 'добро пожаловать', 'открытие', 'прочий', 'уведомление', 'заканчиваться', 'предыдущий', 'ветер', 'прописывать', 'исключать', 'сильно удивился', 'внесение', 'компания', 'торопиться', 'отображаться', 'уже списана', 'обдирать', 'разводить', 'туда сама', 'вновь запросили', '%\" ', 'нерв', 'где-то', 'первоначальный', 'поставлять', 'конкурсный', 'всяко бывает', 'письменный', 'либо', 'изначально хотела', 'москва', 'скриншот', 'июнь', 'превышать', 'располагать', 'завуалированый', 'заказной', 'sovcombank', 'недостоверный', 'плохой', 'идентификация', 'всегда гашу', 'ничего объяснить', 'вообще такое', 'ещё одно', 'зимой уходили', 'лицо', 'уже исчерпал', 'очень сильно', ' + (', 'сходить', 'потом оказалось', 'хорошо подумайте', 'снова составил', 'замораживать', 'самостоятельно', 'немедленно закрыть', 'жаль', 'больше ничего', 'недостаточно средствнаписала', 'принятие', 'важный', 'прекращать', 'сходиться', 'скорый', 'навсегда вычеркнули', '....', 'точно новых', 'д предварительно', 'нормально сделал', 'автомобиль', 'домой ивнимательно', 'ожидание', 'пропорционально годовых', 'робот', 'налоговый', 'реализация', 'мягко говоря', 'более дееспособным', 'там сидят', 'алерт', 'уже гарантированно', 'потом убрать', 'частичный', 'вообще бывает', 'постоянно лежал'}\n"
     ]
    }
   ],
   "source": [
    "print(sets[1])"
   ]
  },
  {
   "cell_type": "markdown",
   "id": "prospective-british",
   "metadata": {},
   "source": [
    "Все отлично работает. Теперь **выносим вердикт по отзывам** с помощью сетов"
   ]
  },
  {
   "cell_type": "code",
   "execution_count": 106,
   "id": "spatial-occupation",
   "metadata": {},
   "outputs": [],
   "source": [
    "def checking(review, sets):\n",
    "    positive_words = int()\n",
    "    negative_words = int()\n",
    "    lemmatized = m.lemmatize(review.lower())\n",
    "    for word in lemmatized:\n",
    "        if word in sets[0]:\n",
    "            positive_words += 1\n",
    "        elif word in sets[1]:\n",
    "            negative_words += 1\n",
    "    if positive_words > negative_words:\n",
    "        return 'positive'\n",
    "    elif positive_words < negative_words:\n",
    "        return 'negative'\n",
    "    else:\n",
    "        return 'positive' #сеты несбалансированы, поэтому я решил, что при равном количестве слов преимущество \n",
    "                          #надо отдавать эмоции с меньшим количеством слов"
   ]
  },
  {
   "cell_type": "markdown",
   "id": "configured-academy",
   "metadata": {},
   "source": [
    "Ниже показаны проверочные отзывы. Первый является негативным, второй позитивным"
   ]
  },
  {
   "cell_type": "code",
   "execution_count": 107,
   "id": "parental-spank",
   "metadata": {},
   "outputs": [],
   "source": [
    "review = '''Действительно, бизнес \"Русского Стандарта\" строится на надувательстве заемщиков! Это самое настоящее \"кидалово\" для клиентов Банка. Бешенные проценты, завуалированные под низкопроцентные кредиты. Нулевые кредиты Банк выдает только под неликвидные товары, по сговору с фирмой-продавцом. Причем на такие товары делается большая наценка, которая в последствии делится между Банком и торговой организацией. Товары продаются в магазинах-партнерах Банка отвратительного качества (3-4 сорт), очень много бракованных и возвращаются. покупателями в течении 1-2 месяцев после покупки. Брак по низким ценам из Эльдорадо и Евросети обычное дело.\n",
    "В отношении своих сотрудников Банк занимается подставами и кидаловым.\n",
    "Так что не надо брать \"дешевые\" кредиты в этом Банке, и вообще не имейте с ним дело и другим скажите.\n",
    "Проще обратиться в другие Банки, чтобы не чувствовать себя потом в дураках!'''"
   ]
  },
  {
   "cell_type": "code",
   "execution_count": 108,
   "id": "selected-venezuela",
   "metadata": {},
   "outputs": [],
   "source": [
    "review2 = '''Не знаю как кредиты в этом банке, но вот ДЕПОЗИТЫ просто класс! Мало того, что высокие ставки, бесплатно выпускают депозитную карту, на которую тоже начисляются проценты  А когда мне срочно понадобились мои деньги, я смогла закрыть свой вклад, позвонив по телефону и досрочно закрыв депозит. Уже на следующий день получила деньги с моей карты!!!'''"
   ]
  },
  {
   "cell_type": "code",
   "execution_count": 109,
   "id": "proof-basics",
   "metadata": {
    "scrolled": true
   },
   "outputs": [
    {
     "data": {
      "text/plain": [
       "'negative'"
      ]
     },
     "execution_count": 109,
     "metadata": {},
     "output_type": "execute_result"
    }
   ],
   "source": [
    "checking(review, sets)"
   ]
  },
  {
   "cell_type": "code",
   "execution_count": 110,
   "id": "governing-incident",
   "metadata": {},
   "outputs": [
    {
     "data": {
      "text/plain": [
       "'negative'"
      ]
     },
     "execution_count": 110,
     "metadata": {},
     "output_type": "execute_result"
    }
   ],
   "source": [
    "checking(review2, sets)"
   ]
  },
  {
   "cell_type": "markdown",
   "id": "disturbed-building",
   "metadata": {},
   "source": [
    "Как видим, программа работает не всегда. Тогда **посмотрим ее точность** на примере 10 тестовых отзывов"
   ]
  },
  {
   "cell_type": "code",
   "execution_count": 111,
   "id": "printable-hostel",
   "metadata": {},
   "outputs": [],
   "source": [
    "def getting_tests():\n",
    "    reviews_emotions = dict()\n",
    "    count_positive = 0\n",
    "    count_negative = 0\n",
    "    for i in range(60, 85):\n",
    "        time.sleep(8)\n",
    "        resp = req.get(f'https://www.banki.ru/services/responses/bank/rsb/?is_countable=on&page={i}', \n",
    "                       proxies = {'https://135.181.61.25': '36135'}, headers = headers)\n",
    "        soup = BeautifulSoup(resp.content, 'html.parser')\n",
    "        stuff = soup.find_all('article', class_ = 'responses__item')\n",
    "        for one in stuff:\n",
    "            if count_positive == 15 and count_negative == 15:\n",
    "                return reviews_emotions\n",
    "            elif one.find('span', class_ = 'rating-grade rating-grade--small rating-grade--value-1') != None and count_negative < 15:\n",
    "                text = one.find('div', class_ = 'responses__item__message markup-inside-small markup-inside-small--bullet').getText()\n",
    "                count_negative += 1\n",
    "                reviews_emotions[text] = 'negative'\n",
    "                print(str('count_negative: ' + str(count_negative)))\n",
    "            elif one.find('span', class_ = 'rating-grade rating-grade--small rating-grade--value-5') != None and count_positive < 15:\n",
    "                text = one.find('div', class_ = 'responses__item__message markup-inside-small markup-inside-small--bullet').getText()\n",
    "                count_positive += 1\n",
    "                reviews_emotions[text] = 'positive'\n",
    "                print(str('count_positive: ' + str(count_positive)))\n",
    "            else:\n",
    "                continue"
   ]
  },
  {
   "cell_type": "code",
   "execution_count": 112,
   "id": "invalid-deadline",
   "metadata": {},
   "outputs": [
    {
     "name": "stdout",
     "output_type": "stream",
     "text": [
      "count_negative: 1\n",
      "count_negative: 2\n",
      "count_negative: 3\n",
      "count_negative: 4\n",
      "count_negative: 5\n",
      "count_negative: 6\n",
      "count_negative: 7\n",
      "count_negative: 8\n",
      "count_negative: 9\n",
      "count_negative: 10\n",
      "count_negative: 11\n",
      "count_negative: 12\n",
      "count_negative: 13\n",
      "count_negative: 14\n",
      "count_positive: 1\n",
      "count_negative: 15\n",
      "count_positive: 2\n",
      "count_positive: 3\n",
      "count_positive: 4\n",
      "count_positive: 5\n",
      "count_positive: 6\n",
      "count_positive: 7\n",
      "count_positive: 8\n",
      "count_positive: 9\n",
      "count_positive: 10\n",
      "count_positive: 11\n",
      "count_positive: 12\n",
      "count_positive: 13\n",
      "count_positive: 14\n",
      "count_positive: 15\n"
     ]
    }
   ],
   "source": [
    "test_reviews = getting_tests()"
   ]
  },
  {
   "cell_type": "code",
   "execution_count": 115,
   "id": "surgical-lightweight",
   "metadata": {},
   "outputs": [],
   "source": [
    "def calculating_accuracy(reviews_emotions, sets):\n",
    "    random_ten = list(reviews_emotions.items())\n",
    "    random.shuffle(random_ten)\n",
    "    random_ten = random_ten[:10]\n",
    "    results = list()\n",
    "    reality = list()\n",
    "    for review in random_ten:\n",
    "        reality.append(review[1])\n",
    "        result = checking(review[0], sets)\n",
    "        results.append(result)\n",
    "    print(results)\n",
    "    print(reality)\n",
    "    print('Accuracy: ' + str(accuracy_score(results, reality)))"
   ]
  },
  {
   "cell_type": "code",
   "execution_count": 116,
   "id": "material-theme",
   "metadata": {},
   "outputs": [
    {
     "name": "stdout",
     "output_type": "stream",
     "text": [
      "['positive', 'positive', 'positive', 'negative', 'negative', 'positive', 'negative', 'positive', 'negative', 'negative']\n",
      "['positive', 'positive', 'positive', 'positive', 'negative', 'positive', 'negative', 'positive', 'negative', 'negative']\n",
      "Accuracy: 0.9\n"
     ]
    }
   ],
   "source": [
    "calculating_accuracy(test_reviews, sets)"
   ]
  },
  {
   "cell_type": "markdown",
   "id": "threaded-benjamin",
   "metadata": {},
   "source": [
    "### Какие улучшения могут быть имплементированы?\n",
    "Во-первых, следует сбалансировать сеты по эмоциям, так как иначе одна из эмоций может иметь преимущество при оценке отзывов. Во-вторых, можно улучшить процесс оценки с помощью каунтеров, чтобы учитывать частотность тех или иных слов. В-третьих, можно банально увеличить выборку, взяв большее количество банков и отзывов. "
   ]
  },
  {
   "cell_type": "code",
   "execution_count": null,
   "id": "higher-advance",
   "metadata": {},
   "outputs": [],
   "source": []
  }
 ],
 "metadata": {
  "kernelspec": {
   "display_name": "Python 3",
   "language": "python",
   "name": "python3"
  },
  "language_info": {
   "codemirror_mode": {
    "name": "ipython",
    "version": 3
   },
   "file_extension": ".py",
   "mimetype": "text/x-python",
   "name": "python",
   "nbconvert_exporter": "python",
   "pygments_lexer": "ipython3",
   "version": "3.9.1"
  }
 },
 "nbformat": 4,
 "nbformat_minor": 5
}
